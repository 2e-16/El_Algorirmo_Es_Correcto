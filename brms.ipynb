{
 "metadata": {
  "language_info": {
   "codemirror_mode": {
    "name": "ipython",
    "version": 3
   },
   "file_extension": ".py",
   "mimetype": "text/x-python",
   "name": "python",
   "nbconvert_exporter": "python",
   "pygments_lexer": "ipython3",
   "version": "3.7.9"
  },
  "orig_nbformat": 2,
  "kernelspec": {
   "name": "python379jvsc74a57bd0b37351ac619a975f7c5909a6502929d3f44de011fa3b12a61ff626914f6002ee",
   "display_name": "Python 3.7.9 64-bit"
  },
  "metadata": {
   "interpreter": {
    "hash": "b37351ac619a975f7c5909a6502929d3f44de011fa3b12a61ff626914f6002ee"
   }
  }
 },
 "nbformat": 4,
 "nbformat_minor": 2,
 "cells": [
  {
   "cell_type": "code",
   "execution_count": null,
   "metadata": {},
   "outputs": [],
   "source": [
    "import pandas as pd\n",
    "import numpy as np\n",
    "import re\n",
    "import os\n",
    "import pystan\n",
    "import geopandas\n",
    "from sklearn.neighbors import KNeighborsClassifier, KNeighborsRegressor\n",
    "from sklearn.tree import DecisionTreeRegressor\n",
    "from sklearn.ensemble import RandomForestRegressor\n",
    "from sklearn.model_selection import train_test_split\n",
    "from sklearn.metrics import mean_squared_error, accuracy_score, mean_absolute_error, mean_absolute_percentage_error\n",
    "import matplotlib.pyplot as plt"
   ]
  },
  {
   "cell_type": "code",
   "execution_count": null,
   "metadata": {},
   "outputs": [],
   "source": [
    "carpeta_path = r'C:\\Users\\William\\Desktop\\el algoritmo es correcto'\n",
    "archivo_train = r'train_data.csv'\n",
    "path_train = os.path.join(carpeta_path, archivo_train)"
   ]
  },
  {
   "cell_type": "code",
   "execution_count": null,
   "metadata": {},
   "outputs": [],
   "source": [
    "train = pd.read_csv(\n",
    "    path_train, \n",
    "    dtype={\n",
    "        \"tiempodeconstruido\": str,\n",
    "        \"vista\": str,\n",
    "        \"tipoinmueble\": str,\n",
    "        \"tiponegocio\": str,\n",
    "        'valorventa': 'int64',\n",
    "        # 'area': 'int64'\n",
    "    }\n",
    ")\n",
    "train['data'] = 'train'"
   ]
  },
  {
   "cell_type": "code",
   "execution_count": null,
   "metadata": {},
   "outputs": [],
   "source": [
    "carpeta_path = r'C:\\Users\\William\\Desktop\\el algoritmo es correcto'\n",
    "archivo_test = r'test_data.csv'\n",
    "path_test = os.path.join(carpeta_path, archivo_test)"
   ]
  },
  {
   "cell_type": "code",
   "execution_count": null,
   "metadata": {},
   "outputs": [],
   "source": [
    "test = pd.read_csv(\n",
    "    path_test, \n",
    "    dtype={\n",
    "        \"tiempodeconstruido\": str,\n",
    "        \"vista\": str,\n",
    "        \"tipoinmueble\": str,\n",
    "        \"tiponegocio\": str,\n",
    "        'valorventa': 'int64',\n",
    "        # 'area': 'int64'\n",
    "    }\n",
    ")\n",
    "test['data'] = 'test'"
   ]
  },
  {
   "cell_type": "code",
   "execution_count": null,
   "metadata": {},
   "outputs": [],
   "source": [
    "prueba = pd.concat([train, test], ignore_index=True)"
   ]
  },
  {
   "cell_type": "code",
   "execution_count": null,
   "metadata": {},
   "outputs": [],
   "source": [
    "prueba = prueba[\n",
    "    (prueba['porteria'].isna()) &\n",
    "    (prueba['conjuntocerrado']==0) &\n",
    "    (prueba['tipoinmueble']=='Casa') &\n",
    "    (prueba['ascensor'].isna()) &\n",
    "    ((prueba['gimnasio'].isna()) | (prueba['gimnasio']==0)) &\n",
    "    (prueba['piscina'].isna()) &\n",
    "    ((prueba['area']<1500) & (prueba['area']>35)) &\n",
    "    ((prueba['piso']<5) | (prueba['piso'].isna())) &\n",
    "    ((prueba['habitaciones']<15) & (prueba['habitaciones']>0))\n",
    "]"
   ]
  },
  {
   "cell_type": "code",
   "execution_count": null,
   "metadata": {},
   "outputs": [],
   "source": [
    "columnas_no_usar = ['ascensor', 'tipoinmueble', 'porteria', 'conjuntocerrado', 'gimnasio', 'piscina', 'valoradministracion','tiponegocio']\n",
    "prueba = prueba.drop(columns = columnas_no_usar)"
   ]
  },
  {
   "cell_type": "code",
   "execution_count": null,
   "metadata": {},
   "outputs": [],
   "source": [
    "condlist = [\n",
    "    (prueba['banos']<=1) | (prueba['banos'].isna()), \n",
    "    (prueba['banos']==2), \n",
    "    (prueba['banos'].isin([3,4,5])), \n",
    "    (prueba['banos'].isin([6,7,8,9])),\n",
    "    (prueba['banos']>=10)]\n",
    "choicelist = ['1', '2', '3-5', '6-9', '10+']\n",
    "prueba['banos modificado'] = np.select(condlist=condlist, choicelist=choicelist)\n",
    "\n",
    "condlist = [\n",
    "    (prueba['garajes'].isna()),\n",
    "    (prueba['garajes']<=1), \n",
    "    (prueba['garajes']>1) & (prueba['garajes']<=3), \n",
    "    (prueba['garajes']>3)]\n",
    "choicelist = ['N.N', '0-1', '2-3', '4+']\n",
    "prueba['garajes modificado3'] = np.select(condlist=condlist, choicelist=choicelist)\n",
    "\n",
    "condlist = [(prueba['piso'].isna()), (prueba['piso']>0)]\n",
    "choicelist = ['No define', prueba['piso'].astype(str)]\n",
    "prueba['piso modificado3'] = np.select(condlist=condlist, choicelist=choicelist)\n",
    "\n",
    "condlist = [(prueba['vista'].isna()), (prueba['vista'].notna())]\n",
    "choicelist = ['No define', prueba['vista']]\n",
    "prueba['vista modificado'] = np.select(condlist=condlist, choicelist=choicelist)\n",
    "\n",
    "condlist = [(prueba['vista'].isna()), (prueba['vista'].notna())]\n",
    "choicelist = ['Exterior', prueba['vista']]\n",
    "prueba['vista modificado2'] = np.select(condlist=condlist, choicelist=choicelist) \n",
    "\n",
    "condlist = [(prueba['zonalavanderia'].isna()), (prueba['zonalavanderia'].notna())]\n",
    "choicelist = [0, 1]\n",
    "prueba['zonalavanderia modificado'] = np.select(condlist=condlist, choicelist=choicelist)\n",
    "\n",
    "condlist = [(prueba['vigilancia'].isna()) | (prueba['vigilancia']==0), (prueba['vigilancia']==1)]\n",
    "choicelist = ['No define-0', prueba['vigilancia'].astype(str)]\n",
    "prueba['vigilancia modificado'] = np.select(condlist=condlist, choicelist=choicelist)\n",
    "\n",
    "condlist = [(prueba['deposito'].isna()), (prueba['deposito'].notna())]\n",
    "choicelist = [0, prueba['deposito']]\n",
    "prueba['deposito modificado'] = np.select(condlist=condlist, choicelist=choicelist)\n",
    "\n",
    "prueba['tiempodeconstruido modificado'] = np.where(\n",
    "    prueba['tiempodeconstruido'].isna(),\n",
    "    'No define',\n",
    "    prueba['tiempodeconstruido']\n",
    ")\n",
    "\n",
    "columnas_valor0 = [\n",
    "    'balcon', 'banoservicio', 'cuartoservicio', 'estudio', 'halldealcobas', \n",
    "    'remodelado', 'parqueaderovisitantes', 'saloncomunal','terraza']\n",
    "prueba[columnas_valor0] = prueba[columnas_valor0].fillna(0)\n",
    "\n"
   ]
  },
  {
   "cell_type": "code",
   "execution_count": null,
   "metadata": {},
   "outputs": [],
   "source": [
    "prueba['y'] = (prueba['valorventa']/prueba['area']) "
   ]
  },
  {
   "cell_type": "code",
   "execution_count": null,
   "metadata": {},
   "outputs": [],
   "source": [
    "prueba = prueba[\n",
    "    (prueba['y']<prueba['y'].quantile(0.95).astype('int64')) &\n",
    "    (prueba['y']>prueba['y'].quantile(0.05).astype('int64'))]"
   ]
  },
  {
   "cell_type": "code",
   "execution_count": null,
   "metadata": {},
   "outputs": [],
   "source": [
    "localidades_path = r'C:\\Users\\William\\Desktop\\el algoritmo es correcto\\Datos abiertos bogota\\localidades.json'\n",
    "localidades = geopandas.read_file(localidades_path, crs={'init':'epsg:4686'})"
   ]
  },
  {
   "cell_type": "code",
   "execution_count": null,
   "metadata": {},
   "outputs": [],
   "source": [
    "localidades = localidades[['LocNombre', 'geometry']]"
   ]
  },
  {
   "cell_type": "code",
   "execution_count": null,
   "metadata": {},
   "outputs": [],
   "source": [
    "estratificacion_path = r'C:\\Users\\William\\Desktop\\el algoritmo es correcto\\Datos abiertos bogota\\manzana_estratificacion.json'\n",
    "estratificacion = geopandas.read_file(estratificacion_path, crs={'init':'epsg:4686'})"
   ]
  },
  {
   "cell_type": "code",
   "execution_count": null,
   "metadata": {},
   "outputs": [],
   "source": [
    "estratificacion = estratificacion[['ESTRATO', 'geometry']]"
   ]
  },
  {
   "cell_type": "code",
   "execution_count": null,
   "metadata": {},
   "outputs": [],
   "source": [
    "avaluo_path = r'C:\\Users\\William\\Desktop\\el algoritmo es correcto\\Datos abiertos bogota\\avaluo'\n",
    "avaluo = geopandas.read_file(avaluo_path, crs={'init':'epsg:4686'})"
   ]
  },
  {
   "cell_type": "code",
   "execution_count": null,
   "metadata": {},
   "outputs": [],
   "source": [
    "avaluo = avaluo[[\"GRUPOP_TER\", \"geometry\"]] # MANZANA_ID\tCP_TERR_AR"
   ]
  },
  {
   "cell_type": "code",
   "execution_count": null,
   "metadata": {},
   "outputs": [],
   "source": [
    "casas = geopandas.GeoDataFrame(\n",
    "    prueba, geometry=geopandas.points_from_xy(prueba.longitud, prueba.latitud), crs={'init': 'epsg:4326'})"
   ]
  },
  {
   "cell_type": "code",
   "execution_count": null,
   "metadata": {},
   "outputs": [],
   "source": [
    "interseccion1 = geopandas.sjoin(left_df=casas, right_df=localidades, how='left', op='intersects').drop(columns=['index_right'])\n",
    "interseccion2 = geopandas.sjoin(left_df=interseccion1, right_df=estratificacion, how='left', op='intersects').drop(columns=['index_right'])\n",
    "interseccion3 = geopandas.sjoin(left_df=interseccion2, right_df=avaluo, how='left', op='intersects').drop(columns=['index_right'])"
   ]
  },
  {
   "cell_type": "code",
   "execution_count": null,
   "metadata": {},
   "outputs": [],
   "source": [
    "interseccion3"
   ]
  },
  {
   "cell_type": "code",
   "execution_count": null,
   "metadata": {},
   "outputs": [],
   "source": [
    "interseccionn = interseccion3"
   ]
  },
  {
   "cell_type": "code",
   "execution_count": null,
   "metadata": {},
   "outputs": [],
   "source": [
    "interseccionn['ESTRATO'] = np.where(\n",
    "    interseccionn['ESTRATO'].isna() | interseccionn['ESTRATO']==0,\n",
    "    np.NaN,\n",
    "    interseccionn['ESTRATO']\n",
    ")"
   ]
  },
  {
   "cell_type": "code",
   "execution_count": null,
   "metadata": {},
   "outputs": [],
   "source": [
    "train = interseccionn.loc[interseccionn['ESTRATO'].notna(),['ESTRATO', 'latitud', 'longitud']]\n",
    "X = train[['latitud', 'longitud']].values\n",
    "y = train[['ESTRATO']].values\n",
    "# Create training and test sets\n",
    "X_train, X_test, y_train, y_test = train_test_split(X, y, test_size = 0.3, random_state=42)\n",
    "neigh = KNeighborsClassifier(n_neighbors=3, metric = 'euclidean')\n",
    "neigh.fit(X_train, y_train.ravel())\n",
    "y_pred = neigh.predict(X_test)\n",
    "print(\"R^2: {}\".format(neigh.score(X_test, y_test)))\n",
    "rmse = np.sqrt(mean_squared_error(y_test, y_pred))\n",
    "print(\"Root Mean Squared Error: {}\".format(rmse))\n",
    "print(\"Accuracy: {}\".format(accuracy_score(y_test, y_pred)))\n",
    "valores = interseccionn.loc[interseccionn['ESTRATO'].isnull(),['latitud', 'longitud']].values\n",
    "interseccionn.loc[interseccionn['ESTRATO'].isnull(),'ESTRATO'] = neigh.predict(valores)"
   ]
  },
  {
   "cell_type": "code",
   "execution_count": null,
   "metadata": {},
   "outputs": [],
   "source": [
    "indices = {}\n",
    "for i, grupo in enumerate(interseccionn[interseccionn['GRUPOP_TER'].notna()]['GRUPOP_TER'].unique()):\n",
    "    indices[i] = grupo\n",
    "    interseccionn.loc[interseccionn['GRUPOP_TER']==grupo, ['GRUPOP_TER']] = i\n",
    "train = interseccionn.loc[interseccionn['GRUPOP_TER'].notna(),['GRUPOP_TER', 'latitud', 'longitud']]\n",
    "X = train[['latitud', 'longitud']].values\n",
    "y = train[['GRUPOP_TER']].astype(int).values\n",
    "# Create training and test sets\n",
    "X_train, X_test, y_train, y_test = train_test_split(X, y, test_size = 0.3, random_state=42)\n",
    "neigh = KNeighborsClassifier()#algorithm='brute', n_neighbors=5,  leaf_size=1, p=2, weights='distance', metric='chebyshev', n_jobs=-1)\n",
    "neigh.fit(X_train, y_train)\n",
    "y_pred = neigh.predict(X_test)\n",
    "print(\"R^2: {}\".format(neigh.score(X_test, y_test)))\n",
    "rmse = np.sqrt(mean_squared_error(y_test, y_pred))\n",
    "print(\"Root Mean Squared Error: {}\".format(rmse))\n",
    "print(\"Accuracy: {}\".format(accuracy_score(y_test, y_pred)))\n",
    "valores = interseccionn.loc[interseccionn['GRUPOP_TER'].isnull(),['latitud', 'longitud']].values\n",
    "interseccionn.loc[interseccionn['GRUPOP_TER'].isnull(),'GRUPOP_TER'] = neigh.predict(valores)\n",
    "for i, grupo in indices.items():\n",
    "    interseccionn.loc[interseccionn['GRUPOP_TER']==i, ['GRUPOP_TER']] = grupo"
   ]
  },
  {
   "cell_type": "code",
   "execution_count": null,
   "metadata": {},
   "outputs": [],
   "source": [
    "interseccionn = interseccionn.drop(\n",
    "    columns=[\n",
    "        'banos', 'deposito', 'estrato', 'garajes', 'piso', \n",
    "        'tiempodeconstruido', 'vigilancia', 'vista',\n",
    "        'zonalavanderia', 'latitud', 'longitud', \n",
    "        'vista modificado2', 'geometry'\n",
    "    ])"
   ]
  },
  {
   "cell_type": "code",
   "execution_count": null,
   "metadata": {},
   "outputs": [],
   "source": [
    "interseccionn.columns"
   ]
  },
  {
   "cell_type": "code",
   "execution_count": null,
   "metadata": {},
   "outputs": [],
   "source": [
    "interseccionn = interseccionn.rename(columns={'banos modificado':'banos_modificado', 'garajes modificado3': 'garajes_modificado3', 'piso_modificado3': 'piso modificado3', 'vista modificado': 'vista_modificado', 'zonalavanderia modificado': 'zonalavanderia_modificado', 'vigilancia modificado': 'vigilancia_modificado', 'deposito modificado': 'deposito_modificado', 'tiempodeconstruido modificado': 'tiempodeconstruido_modificado'})"
   ]
  },
  {
   "cell_type": "code",
   "execution_count": null,
   "metadata": {},
   "outputs": [],
   "source": [
    "import pybrms"
   ]
  },
  {
   "cell_type": "code",
   "execution_count": null,
   "metadata": {},
   "outputs": [],
   "source": [
    "model = pybrms.fit_model(\n",
    "    \"y ~ balcon + banoservicio + cuartoservicio + estudio + habitaciones + halldealcobas + parqueaderovisitantes + remodelado + saloncomunal + terraza + valorventa + banos_modificado + garajes_modificado3 + piso_modificado3 + vista_modificado + zonalavanderia_modificado + vigilancia_modificado + deposito_modificado + tiempodeconstruido_modificado + (1 + area + valorventa|LocNombre/GRUPOP_TER/ESTRATO)\",\n",
    "    data = interseccionn.values,\n",
    "    family = \"Gamma\",\n",
    "    priors = [(\"Gamma(1,1)\", \" b \"), (\"Gamma(1,1)\", \"sd\")],\n",
    "    # chains = 1,\n",
    "    # iter = 5000\n",
    "    )"
   ]
  },
  {
   "cell_type": "code",
   "execution_count": null,
   "metadata": {},
   "outputs": [],
   "source": [
    "import sys \n",
    "sys.path.append(r'C:\\Users\\William\\Desktop')\n",
    "from pybrms2 import fit"
   ]
  },
  {
   "cell_type": "code",
   "execution_count": null,
   "metadata": {},
   "outputs": [],
   "source": [
    "import pystan"
   ]
  },
  {
   "cell_type": "code",
   "execution_count": null,
   "metadata": {},
   "outputs": [],
   "source": [
    "import rpy2.robjects.packages as rpackages\n",
    "from rpy2.robjects import StrVector\n",
    "utils = rpackages.importr(\"utils\")\n",
    "utils.install_packages(StrVector(('brms',)))\n",
    "brms = rpackages.importr(\"brms\")"
   ]
  },
  {
   "cell_type": "code",
   "execution_count": null,
   "metadata": {},
   "outputs": [],
   "source": [
    "from pybrms import pybrms"
   ]
  },
  {
   "cell_type": "code",
   "execution_count": null,
   "metadata": {},
   "outputs": [],
   "source": [
    "import rpy2.robjects.packages as rpackages\n",
    "from rpy2.robjects import StrVector\n",
    "utils = rpackages.importr(\"utils\")\n",
    "utils.install_packages(StrVector(('brms',)))\n",
    "brms = rpackages.importr(\"brms\")"
   ]
  },
  {
   "cell_type": "code",
   "execution_count": null,
   "metadata": {
    "tags": []
   },
   "outputs": [],
   "source": [
    "dir(brms)"
   ]
  },
  {
   "cell_type": "code",
   "execution_count": null,
   "metadata": {},
   "outputs": [],
   "source": [
    "import rpy2.robjects.packages as rpackages\n",
    "brms = rpackages.importr(\"brms\")\n",
    "# from pybrms import pybrms\n",
    "epilepsy = brms.get_brms_data(\"epilepsy\")\n",
    "model = brms.fit(\n",
    "formula = \"count ~ zAge + zBase x Trt + (1 | patient)\",\n",
    "data = epilepsy,\n",
    "family = \"poisson\"\n",
    ")"
   ]
  },
  {
   "cell_type": "code",
   "execution_count": 1,
   "metadata": {},
   "outputs": [],
   "source": [
    "import statsmodels.api as sm"
   ]
  },
  {
   "cell_type": "code",
   "execution_count": 2,
   "metadata": {},
   "outputs": [],
   "source": [
    "data = sm.datasets.scotland.load(as_pandas=False)\n",
    "data.exog = sm.add_constant(data.exog)"
   ]
  },
  {
   "cell_type": "code",
   "execution_count": 3,
   "metadata": {},
   "outputs": [],
   "source": [
    "import numpy as np"
   ]
  },
  {
   "cell_type": "code",
   "execution_count": null,
   "metadata": {},
   "outputs": [],
   "source": [
    "data.exog"
   ]
  },
  {
   "cell_type": "code",
   "execution_count": null,
   "metadata": {},
   "outputs": [],
   "source": [
    "np.ones((len(data.endog),1))"
   ]
  },
  {
   "cell_type": "code",
   "execution_count": null,
   "metadata": {},
   "outputs": [],
   "source": [
    "help(sm.families.Gamma())"
   ]
  },
  {
   "cell_type": "code",
   "execution_count": null,
   "metadata": {},
   "outputs": [],
   "source": [
    "gamma_model = sm.GLM(data.endog, np.ones((len(data.endog),1)), family=sm.families.Gamma(link=sm.families.links.log))"
   ]
  },
  {
   "cell_type": "code",
   "execution_count": null,
   "metadata": {
    "tags": []
   },
   "outputs": [],
   "source": [
    "resultado = gamma_model.fit()"
   ]
  },
  {
   "cell_type": "code",
   "execution_count": null,
   "metadata": {},
   "outputs": [],
   "source": [
    "print(resultado.summary())"
   ]
  },
  {
   "cell_type": "code",
   "execution_count": 14,
   "metadata": {},
   "outputs": [
    {
     "output_type": "execute_result",
     "data": {
      "text/plain": [
       "   int_values str_values\n",
       "0           1        abc\n",
       "1           2        def\n",
       "2           3        ghi"
      ],
      "text/html": "<div>\n<style scoped>\n    .dataframe tbody tr th:only-of-type {\n        vertical-align: middle;\n    }\n\n    .dataframe tbody tr th {\n        vertical-align: top;\n    }\n\n    .dataframe thead th {\n        text-align: right;\n    }\n</style>\n<table border=\"1\" class=\"dataframe\">\n  <thead>\n    <tr style=\"text-align: right;\">\n      <th></th>\n      <th>int_values</th>\n      <th>str_values</th>\n    </tr>\n  </thead>\n  <tbody>\n    <tr>\n      <th>0</th>\n      <td>1</td>\n      <td>abc</td>\n    </tr>\n    <tr>\n      <th>1</th>\n      <td>2</td>\n      <td>def</td>\n    </tr>\n    <tr>\n      <th>2</th>\n      <td>3</td>\n      <td>ghi</td>\n    </tr>\n  </tbody>\n</table>\n</div>"
     },
     "metadata": {},
     "execution_count": 14
    }
   ],
   "source": [
    "import pandas as pd\n",
    "import rpy2.robjects as ro\n",
    "from rpy2.robjects.packages import importr\n",
    "from rpy2.robjects import pandas2ri\n",
    "\n",
    "from rpy2.robjects.conversion import localconverter\n",
    "pd_df = pd.DataFrame({'int_values': [1,2,3],\n",
    "                      'str_values': ['abc', 'def', 'ghi']})\n",
    "\n",
    "pd_df"
   ]
  },
  {
   "cell_type": "code",
   "execution_count": 17,
   "metadata": {},
   "outputs": [
    {
     "output_type": "execute_result",
     "data": {
      "text/plain": [
       "<rpy2.robjects.vectors.DataFrame object at 0x0000021536395E08> [RTYPES.VECSXP]\n",
       "R classes: ('data.frame',)\n",
       "[FloatSexpVector]\n",
       "  y: <class 'rpy2.rinterface.FloatSexpVector'>\n",
       "  <rpy2.rinterface.FloatSexpVector object at 0x0000021536392608> [RTYPES.REALSXP]"
      ],
      "text/html": "\n        <span>R/rpy2 DataFrame (32 x 1)</span>\n        <table>\n          <thead>\n            <tr>\n              \n              <th>y</th>\n              \n            </tr>\n          </thead>\n          <tbody>\n          \n          <tr>\n            \n            <td>\n              ...\n            </td>\n            \n          </tr>\n          \n          </tbody>\n        </table>\n    "
     },
     "metadata": {},
     "execution_count": 17
    }
   ],
   "source": [
    "with localconverter(ro.default_converter + pandas2ri.converter):\n",
    "  r_from_pd_df = ro.conversion.py2rpy(pd.DataFrame(data.endog, columns=[\"y\"]))\n",
    "\n",
    "r_from_pd_df"
   ]
  },
  {
   "cell_type": "code",
   "execution_count": null,
   "metadata": {},
   "outputs": [],
   "source": [
    "resultado.predict(1)"
   ]
  },
  {
   "cell_type": "code",
   "execution_count": 4,
   "metadata": {},
   "outputs": [],
   "source": [
    "import rpy2.robjects.packages as rpackages\n",
    "gamlss = rpackages.importr(\"gamlss\")"
   ]
  },
  {
   "cell_type": "code",
   "execution_count": 5,
   "metadata": {},
   "outputs": [],
   "source": [
    "import rpy2.robjects.numpy2ri\n",
    "rpy2.robjects.numpy2ri.activate()"
   ]
  },
  {
   "cell_type": "code",
   "execution_count": 13,
   "metadata": {},
   "outputs": [
    {
     "output_type": "error",
     "ename": "NotImplementedError",
     "evalue": "Conversion 'py2rpy' not defined for objects of type '<class 'pandas.core.frame.DataFrame'>'",
     "traceback": [
      "\u001b[1;31m---------------------------------------------------------------------------\u001b[0m",
      "\u001b[1;31mNotImplementedError\u001b[0m                       Traceback (most recent call last)",
      "\u001b[1;32m<ipython-input-13-3f6a196b6af6>\u001b[0m in \u001b[0;36m<module>\u001b[1;34m\u001b[0m\n\u001b[0;32m      2\u001b[0m \u001b[1;32mfrom\u001b[0m \u001b[0mrpy2\u001b[0m\u001b[1;33m.\u001b[0m\u001b[0mrobjects\u001b[0m \u001b[1;32mimport\u001b[0m \u001b[0mpandas2ri\u001b[0m\u001b[1;33m\u001b[0m\u001b[1;33m\u001b[0m\u001b[0m\n\u001b[0;32m      3\u001b[0m \u001b[1;32mimport\u001b[0m \u001b[0mrpy2\u001b[0m\u001b[1;33m.\u001b[0m\u001b[0mrobjects\u001b[0m \u001b[1;32mas\u001b[0m \u001b[0mro\u001b[0m\u001b[1;33m\u001b[0m\u001b[1;33m\u001b[0m\u001b[0m\n\u001b[1;32m----> 4\u001b[1;33m \u001b[0mr_from_pd_df\u001b[0m \u001b[1;33m=\u001b[0m \u001b[0mro\u001b[0m\u001b[1;33m.\u001b[0m\u001b[0mconversion\u001b[0m\u001b[1;33m.\u001b[0m\u001b[0mpy2rpy\u001b[0m\u001b[1;33m(\u001b[0m\u001b[0mpd\u001b[0m\u001b[1;33m.\u001b[0m\u001b[0mDataFrame\u001b[0m\u001b[1;33m(\u001b[0m\u001b[0mdata\u001b[0m\u001b[1;33m.\u001b[0m\u001b[0mendog\u001b[0m\u001b[1;33m,\u001b[0m \u001b[0mcolumns\u001b[0m\u001b[1;33m=\u001b[0m\u001b[1;33m[\u001b[0m\u001b[1;34m\"y\"\u001b[0m\u001b[1;33m]\u001b[0m\u001b[1;33m)\u001b[0m\u001b[1;33m)\u001b[0m\u001b[1;33m\u001b[0m\u001b[1;33m\u001b[0m\u001b[0m\n\u001b[0m",
      "\u001b[1;32m~\\AppData\\Local\\Programs\\Python\\Python37\\lib\\functools.py\u001b[0m in \u001b[0;36mwrapper\u001b[1;34m(*args, **kw)\u001b[0m\n\u001b[0;32m    838\u001b[0m                             '1 positional argument')\n\u001b[0;32m    839\u001b[0m \u001b[1;33m\u001b[0m\u001b[0m\n\u001b[1;32m--> 840\u001b[1;33m         \u001b[1;32mreturn\u001b[0m \u001b[0mdispatch\u001b[0m\u001b[1;33m(\u001b[0m\u001b[0margs\u001b[0m\u001b[1;33m[\u001b[0m\u001b[1;36m0\u001b[0m\u001b[1;33m]\u001b[0m\u001b[1;33m.\u001b[0m\u001b[0m__class__\u001b[0m\u001b[1;33m)\u001b[0m\u001b[1;33m(\u001b[0m\u001b[1;33m*\u001b[0m\u001b[0margs\u001b[0m\u001b[1;33m,\u001b[0m \u001b[1;33m**\u001b[0m\u001b[0mkw\u001b[0m\u001b[1;33m)\u001b[0m\u001b[1;33m\u001b[0m\u001b[1;33m\u001b[0m\u001b[0m\n\u001b[0m\u001b[0;32m    841\u001b[0m \u001b[1;33m\u001b[0m\u001b[0m\n\u001b[0;32m    842\u001b[0m     \u001b[0mfuncname\u001b[0m \u001b[1;33m=\u001b[0m \u001b[0mgetattr\u001b[0m\u001b[1;33m(\u001b[0m\u001b[0mfunc\u001b[0m\u001b[1;33m,\u001b[0m \u001b[1;34m'__name__'\u001b[0m\u001b[1;33m,\u001b[0m \u001b[1;34m'singledispatch function'\u001b[0m\u001b[1;33m)\u001b[0m\u001b[1;33m\u001b[0m\u001b[1;33m\u001b[0m\u001b[0m\n",
      "\u001b[1;32m~\\AppData\\Local\\Programs\\Python\\Python37\\lib\\site-packages\\rpy2\\robjects\\conversion.py\u001b[0m in \u001b[0;36m_py2rpy\u001b[1;34m(obj)\u001b[0m\n\u001b[0;32m    188\u001b[0m     raise NotImplementedError(\n\u001b[0;32m    189\u001b[0m         \u001b[1;34m\"Conversion 'py2rpy' not defined for objects of type '%s'\"\u001b[0m \u001b[1;33m%\u001b[0m\u001b[1;33m\u001b[0m\u001b[1;33m\u001b[0m\u001b[0m\n\u001b[1;32m--> 190\u001b[1;33m         \u001b[0mstr\u001b[0m\u001b[1;33m(\u001b[0m\u001b[0mtype\u001b[0m\u001b[1;33m(\u001b[0m\u001b[0mobj\u001b[0m\u001b[1;33m)\u001b[0m\u001b[1;33m)\u001b[0m\u001b[1;33m\u001b[0m\u001b[1;33m\u001b[0m\u001b[0m\n\u001b[0m\u001b[0;32m    191\u001b[0m     )\n\u001b[0;32m    192\u001b[0m \u001b[1;33m\u001b[0m\u001b[0m\n",
      "\u001b[1;31mNotImplementedError\u001b[0m: Conversion 'py2rpy' not defined for objects of type '<class 'pandas.core.frame.DataFrame'>'"
     ]
    }
   ],
   "source": [
    "import pandas as pd\n",
    "from rpy2.robjects import pandas2ri\n",
    "import rpy2.robjects as ro\n",
    "r_from_pd_df = ro.conversion.py2rpy()"
   ]
  },
  {
   "cell_type": "code",
   "execution_count": 19,
   "metadata": {},
   "outputs": [
    {
     "output_type": "stream",
     "name": "stdout",
     "text": [
      "GAMLSS-RS iteration 1: Global Deviance = 222.6459 \n",
      "GAMLSS-RS iteration 2: Global Deviance = 222.6459 \n"
     ]
    }
   ],
   "source": [
    "f = gamlss.gamlss(formula = rpackages.reval(\"y~1\"), data=r_from_pd_df,family = \"GA\")"
   ]
  },
  {
   "cell_type": "code",
   "execution_count": 80,
   "metadata": {},
   "outputs": [
    {
     "output_type": "execute_result",
     "data": {
      "text/plain": [
       "<rpy2.robjects.vectors.StrVector object at 0x000002153773B708> [RTYPES.STRSXP]\n",
       "R classes: ('character',)\n",
       "['NO', 'Normal']"
      ],
      "text/html": "\n        <span>StrVector with 2 elements.</span>\n        <table>\n        <tbody>\n          <tr>\n          \n            <td>\n            'NO'\n            </td>\n          \n            <td>\n            'Normal'\n            </td>\n          \n          </tr>\n        </tbody>\n        </table>\n        "
     },
     "metadata": {},
     "execution_count": 80
    }
   ],
   "source": [
    "f[0]"
   ]
  },
  {
   "cell_type": "code",
   "execution_count": null,
   "metadata": {},
   "outputs": [],
   "source": [
    "x = gamlss.histDist(data.exog, family = \"GA\")"
   ]
  },
  {
   "cell_type": "code",
   "execution_count": null,
   "metadata": {},
   "outputs": [],
   "source": [
    "x"
   ]
  },
  {
   "cell_type": "code",
   "execution_count": null,
   "metadata": {},
   "outputs": [],
   "source": [
    "help(gamlss)"
   ]
  },
  {
   "cell_type": "code",
   "execution_count": null,
   "metadata": {},
   "outputs": [],
   "source": [
    "from pygam import GammaGAM"
   ]
  },
  {
   "cell_type": "code",
   "execution_count": null,
   "metadata": {
    "tags": [
     "outputPrepend"
    ]
   },
   "outputs": [],
   "source": [
    "help(GammaGAM)"
   ]
  },
  {
   "cell_type": "code",
   "execution_count": null,
   "metadata": {},
   "outputs": [],
   "source": [
    "data.endog"
   ]
  },
  {
   "cell_type": "code",
   "execution_count": null,
   "metadata": {},
   "outputs": [],
   "source": [
    "gamm=GammaGAM().fit(np.ones((len(data.exog),1)),data.endog)"
   ]
  },
  {
   "cell_type": "code",
   "execution_count": null,
   "metadata": {},
   "outputs": [],
   "source": [
    "gamm.summary()"
   ]
  },
  {
   "cell_type": "code",
   "execution_count": null,
   "metadata": {},
   "outputs": [],
   "source": [
    "gamm._estimate_model_statistics"
   ]
  },
  {
   "cell_type": "code",
   "execution_count": null,
   "metadata": {},
   "outputs": [],
   "source": [
    "dir(gamm)"
   ]
  }
 ]
}