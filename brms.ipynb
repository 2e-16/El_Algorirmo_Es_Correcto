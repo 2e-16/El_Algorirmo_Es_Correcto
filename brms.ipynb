{
 "metadata": {
  "language_info": {
   "codemirror_mode": {
    "name": "ipython",
    "version": 3
   },
   "file_extension": ".py",
   "mimetype": "text/x-python",
   "name": "python",
   "nbconvert_exporter": "python",
   "pygments_lexer": "ipython3",
   "version": "3.7.9"
  },
  "orig_nbformat": 2,
  "kernelspec": {
   "name": "python379jvsc74a57bd0b37351ac619a975f7c5909a6502929d3f44de011fa3b12a61ff626914f6002ee",
   "display_name": "Python 3.7.9 64-bit"
  },
  "metadata": {
   "interpreter": {
    "hash": "b37351ac619a975f7c5909a6502929d3f44de011fa3b12a61ff626914f6002ee"
   }
  }
 },
 "nbformat": 4,
 "nbformat_minor": 2,
 "cells": [
  {
   "cell_type": "code",
   "execution_count": null,
   "metadata": {},
   "outputs": [],
   "source": [
    "import pandas as pd\n",
    "import numpy as np\n",
    "import re\n",
    "import os\n",
    "import geopandas\n",
    "from sklearn.neighbors import KNeighborsClassifier, KNeighborsRegressor\n",
    "from sklearn.tree import DecisionTreeRegressor\n",
    "from sklearn.ensemble import RandomForestRegressor\n",
    "from sklearn.model_selection import train_test_split\n",
    "from sklearn.metrics import mean_squared_error, accuracy_score, mean_absolute_error, mean_absolute_percentage_error\n",
    "import matplotlib.pyplot as plt"
   ]
  },
  {
   "cell_type": "code",
   "execution_count": null,
   "metadata": {},
   "outputs": [],
   "source": [
    "carpeta_path = r'C:\\Users\\William\\Desktop\\el algoritmo es correcto'\n",
    "archivo_train = r'train_data.csv'\n",
    "path_train = os.path.join(carpeta_path, archivo_train)"
   ]
  },
  {
   "cell_type": "code",
   "execution_count": null,
   "metadata": {},
   "outputs": [],
   "source": [
    "train = pd.read_csv(\n",
    "    path_train, \n",
    "    dtype={\n",
    "        \"tiempodeconstruido\": str,\n",
    "        \"vista\": str,\n",
    "        \"tipoinmueble\": str,\n",
    "        \"tiponegocio\": str,\n",
    "        'valorventa': 'int64',\n",
    "        # 'area': 'int64'\n",
    "    }\n",
    ")\n",
    "train['data'] = 'train'"
   ]
  },
  {
   "cell_type": "code",
   "execution_count": null,
   "metadata": {},
   "outputs": [],
   "source": [
    "carpeta_path = r'C:\\Users\\William\\Desktop\\el algoritmo es correcto'\n",
    "archivo_test = r'test_data.csv'\n",
    "path_test = os.path.join(carpeta_path, archivo_test)"
   ]
  },
  {
   "cell_type": "code",
   "execution_count": null,
   "metadata": {},
   "outputs": [],
   "source": [
    "test = pd.read_csv(\n",
    "    path_test, \n",
    "    dtype={\n",
    "        \"tiempodeconstruido\": str,\n",
    "        \"vista\": str,\n",
    "        \"tipoinmueble\": str,\n",
    "        \"tiponegocio\": str,\n",
    "        'valorventa': 'int64',\n",
    "        # 'area': 'int64'\n",
    "    }\n",
    ")\n",
    "test['data'] = 'test'"
   ]
  },
  {
   "cell_type": "code",
   "execution_count": null,
   "metadata": {},
   "outputs": [],
   "source": [
    "prueba = pd.concat([train, test], ignore_index=True)"
   ]
  },
  {
   "cell_type": "code",
   "execution_count": null,
   "metadata": {},
   "outputs": [],
   "source": [
    "prueba = prueba[\n",
    "    (prueba['porteria'].isna()) &\n",
    "    (prueba['conjuntocerrado']==0) &\n",
    "    (prueba['tipoinmueble']=='Casa') &\n",
    "    (prueba['ascensor'].isna()) &\n",
    "    ((prueba['gimnasio'].isna()) | (prueba['gimnasio']==0)) &\n",
    "    (prueba['piscina'].isna()) &\n",
    "    ((prueba['area']<1500) & (prueba['area']>35)) &\n",
    "    ((prueba['piso']<5) | (prueba['piso'].isna())) &\n",
    "    ((prueba['habitaciones']<15) & (prueba['habitaciones']>0))\n",
    "]"
   ]
  },
  {
   "cell_type": "code",
   "execution_count": null,
   "metadata": {},
   "outputs": [],
   "source": [
    "columnas_no_usar = ['ascensor', 'tipoinmueble', 'porteria', 'conjuntocerrado', 'gimnasio', 'piscina', 'valoradministracion','tiponegocio']\n",
    "prueba = prueba.drop(columns = columnas_no_usar)"
   ]
  },
  {
   "cell_type": "code",
   "execution_count": null,
   "metadata": {},
   "outputs": [],
   "source": [
    "condlist = [\n",
    "    (prueba['banos']<=1) | (prueba['banos'].isna()), \n",
    "    (prueba['banos']==2), \n",
    "    (prueba['banos'].isin([3,4,5])), \n",
    "    (prueba['banos'].isin([6,7,8,9])),\n",
    "    (prueba['banos']>=10)]\n",
    "choicelist = ['1', '2', '3-5', '6-9', '10+']\n",
    "prueba['banos modificado'] = np.select(condlist=condlist, choicelist=choicelist)\n",
    "\n",
    "condlist = [\n",
    "    (prueba['garajes'].isna()),\n",
    "    (prueba['garajes']<=1), \n",
    "    (prueba['garajes']>1) & (prueba['garajes']<=3), \n",
    "    (prueba['garajes']>3)]\n",
    "choicelist = ['N.N', '0-1', '2-3', '4+']\n",
    "prueba['garajes modificado3'] = np.select(condlist=condlist, choicelist=choicelist)\n",
    "\n",
    "condlist = [(prueba['piso'].isna()), (prueba['piso']>0)]\n",
    "choicelist = ['No define', prueba['piso'].astype(str)]\n",
    "prueba['piso modificado3'] = np.select(condlist=condlist, choicelist=choicelist)\n",
    "\n",
    "condlist = [(prueba['vista'].isna()), (prueba['vista'].notna())]\n",
    "choicelist = ['No define', prueba['vista']]\n",
    "prueba['vista modificado'] = np.select(condlist=condlist, choicelist=choicelist)\n",
    "\n",
    "condlist = [(prueba['vista'].isna()), (prueba['vista'].notna())]\n",
    "choicelist = ['Exterior', prueba['vista']]\n",
    "prueba['vista modificado2'] = np.select(condlist=condlist, choicelist=choicelist) \n",
    "\n",
    "condlist = [(prueba['zonalavanderia'].isna()), (prueba['zonalavanderia'].notna())]\n",
    "choicelist = [0, 1]\n",
    "prueba['zonalavanderia modificado'] = np.select(condlist=condlist, choicelist=choicelist)\n",
    "\n",
    "condlist = [(prueba['vigilancia'].isna()) | (prueba['vigilancia']==0), (prueba['vigilancia']==1)]\n",
    "choicelist = ['No define-0', prueba['vigilancia'].astype(str)]\n",
    "prueba['vigilancia modificado'] = np.select(condlist=condlist, choicelist=choicelist)\n",
    "\n",
    "condlist = [(prueba['deposito'].isna()), (prueba['deposito'].notna())]\n",
    "choicelist = [0, prueba['deposito']]\n",
    "prueba['deposito modificado'] = np.select(condlist=condlist, choicelist=choicelist)\n",
    "\n",
    "prueba['tiempodeconstruido modificado'] = np.where(\n",
    "    prueba['tiempodeconstruido'].isna(),\n",
    "    'No define',\n",
    "    prueba['tiempodeconstruido']\n",
    ")\n",
    "\n",
    "columnas_valor0 = [\n",
    "    'balcon', 'banoservicio', 'cuartoservicio', 'estudio', 'halldealcobas', \n",
    "    'remodelado', 'parqueaderovisitantes', 'saloncomunal','terraza']\n",
    "prueba[columnas_valor0] = prueba[columnas_valor0].fillna(0)\n",
    "\n"
   ]
  },
  {
   "cell_type": "code",
   "execution_count": null,
   "metadata": {},
   "outputs": [],
   "source": [
    "prueba['y'] = (prueba['valorventa']/prueba['area']) "
   ]
  },
  {
   "cell_type": "code",
   "execution_count": null,
   "metadata": {},
   "outputs": [],
   "source": [
    "prueba = prueba[\n",
    "    (prueba['y']<prueba['y'].quantile(0.95).astype('int64')) &\n",
    "    (prueba['y']>prueba['y'].quantile(0.05).astype('int64'))]"
   ]
  },
  {
   "cell_type": "code",
   "execution_count": null,
   "metadata": {},
   "outputs": [],
   "source": [
    "localidades_path = r'C:\\Users\\William\\Desktop\\el algoritmo es correcto\\Datos abiertos bogota\\localidades.json'\n",
    "localidades = geopandas.read_file(localidades_path, crs={'init':'epsg:4686'})"
   ]
  },
  {
   "cell_type": "code",
   "execution_count": null,
   "metadata": {},
   "outputs": [],
   "source": [
    "localidades = localidades[['LocNombre', 'geometry']]"
   ]
  },
  {
   "cell_type": "code",
   "execution_count": null,
   "metadata": {},
   "outputs": [],
   "source": [
    "estratificacion_path = r'C:\\Users\\William\\Desktop\\el algoritmo es correcto\\Datos abiertos bogota\\manzana_estratificacion.json'\n",
    "estratificacion = geopandas.read_file(estratificacion_path, crs={'init':'epsg:4686'})"
   ]
  },
  {
   "cell_type": "code",
   "execution_count": null,
   "metadata": {},
   "outputs": [],
   "source": [
    "estratificacion = estratificacion[['ESTRATO', 'geometry']]"
   ]
  },
  {
   "cell_type": "code",
   "execution_count": null,
   "metadata": {},
   "outputs": [],
   "source": [
    "avaluo_path = r'C:\\Users\\William\\Desktop\\el algoritmo es correcto\\Datos abiertos bogota\\avaluo'\n",
    "avaluo = geopandas.read_file(avaluo_path, crs={'init':'epsg:4686'})"
   ]
  },
  {
   "cell_type": "code",
   "execution_count": null,
   "metadata": {},
   "outputs": [],
   "source": [
    "avaluo = avaluo[[\"GRUPOP_TER\", \"geometry\"]] # MANZANA_ID\tCP_TERR_AR"
   ]
  },
  {
   "cell_type": "code",
   "execution_count": null,
   "metadata": {},
   "outputs": [],
   "source": [
    "casas = geopandas.GeoDataFrame(\n",
    "    prueba, geometry=geopandas.points_from_xy(prueba.longitud, prueba.latitud), crs={'init': 'epsg:4326'})"
   ]
  },
  {
   "cell_type": "code",
   "execution_count": null,
   "metadata": {},
   "outputs": [],
   "source": [
    "interseccion1 = geopandas.sjoin(left_df=casas, right_df=localidades, how='left', op='intersects').drop(columns=['index_right'])\n",
    "interseccion2 = geopandas.sjoin(left_df=interseccion1, right_df=estratificacion, how='left', op='intersects').drop(columns=['index_right'])\n",
    "interseccion3 = geopandas.sjoin(left_df=interseccion2, right_df=avaluo, how='left', op='intersects').drop(columns=['index_right'])"
   ]
  },
  {
   "cell_type": "code",
   "execution_count": null,
   "metadata": {},
   "outputs": [],
   "source": [
    "interseccion3"
   ]
  },
  {
   "cell_type": "code",
   "execution_count": null,
   "metadata": {},
   "outputs": [],
   "source": [
    "interseccionn = interseccion3"
   ]
  },
  {
   "cell_type": "code",
   "execution_count": null,
   "metadata": {},
   "outputs": [],
   "source": [
    "interseccionn['ESTRATO'] = np.where(\n",
    "    interseccionn['ESTRATO'].isna() | interseccionn['ESTRATO']==0,\n",
    "    np.NaN,\n",
    "    interseccionn['ESTRATO']\n",
    ")"
   ]
  },
  {
   "cell_type": "code",
   "execution_count": null,
   "metadata": {},
   "outputs": [],
   "source": [
    "train = interseccionn.loc[interseccionn['ESTRATO'].notna(),['ESTRATO', 'latitud', 'longitud']]\n",
    "X = train[['latitud', 'longitud']].values\n",
    "y = train[['ESTRATO']].values\n",
    "# Create training and test sets\n",
    "X_train, X_test, y_train, y_test = train_test_split(X, y, test_size = 0.3, random_state=42)\n",
    "neigh = KNeighborsClassifier(n_neighbors=3, metric = 'euclidean')\n",
    "neigh.fit(X_train, y_train.ravel())\n",
    "y_pred = neigh.predict(X_test)\n",
    "print(\"R^2: {}\".format(neigh.score(X_test, y_test)))\n",
    "rmse = np.sqrt(mean_squared_error(y_test, y_pred))\n",
    "print(\"Root Mean Squared Error: {}\".format(rmse))\n",
    "print(\"Accuracy: {}\".format(accuracy_score(y_test, y_pred)))\n",
    "valores = interseccionn.loc[interseccionn['ESTRATO'].isnull(),['latitud', 'longitud']].values\n",
    "interseccionn.loc[interseccionn['ESTRATO'].isnull(),'ESTRATO'] = neigh.predict(valores)"
   ]
  },
  {
   "cell_type": "code",
   "execution_count": null,
   "metadata": {},
   "outputs": [],
   "source": [
    "indices = {}\n",
    "for i, grupo in enumerate(interseccionn[interseccionn['GRUPOP_TER'].notna()]['GRUPOP_TER'].unique()):\n",
    "    indices[i] = grupo\n",
    "    interseccionn.loc[interseccionn['GRUPOP_TER']==grupo, ['GRUPOP_TER']] = i\n",
    "train = interseccionn.loc[interseccionn['GRUPOP_TER'].notna(),['GRUPOP_TER', 'latitud', 'longitud']]\n",
    "X = train[['latitud', 'longitud']].values\n",
    "y = train[['GRUPOP_TER']].astype(int).values\n",
    "# Create training and test sets\n",
    "X_train, X_test, y_train, y_test = train_test_split(X, y, test_size = 0.3, random_state=42)\n",
    "neigh = KNeighborsClassifier()#algorithm='brute', n_neighbors=5,  leaf_size=1, p=2, weights='distance', metric='chebyshev', n_jobs=-1)\n",
    "neigh.fit(X_train, y_train)\n",
    "y_pred = neigh.predict(X_test)\n",
    "print(\"R^2: {}\".format(neigh.score(X_test, y_test)))\n",
    "rmse = np.sqrt(mean_squared_error(y_test, y_pred))\n",
    "print(\"Root Mean Squared Error: {}\".format(rmse))\n",
    "print(\"Accuracy: {}\".format(accuracy_score(y_test, y_pred)))\n",
    "valores = interseccionn.loc[interseccionn['GRUPOP_TER'].isnull(),['latitud', 'longitud']].values\n",
    "interseccionn.loc[interseccionn['GRUPOP_TER'].isnull(),'GRUPOP_TER'] = neigh.predict(valores)\n",
    "for i, grupo in indices.items():\n",
    "    interseccionn.loc[interseccionn['GRUPOP_TER']==i, ['GRUPOP_TER']] = grupo"
   ]
  },
  {
   "cell_type": "code",
   "execution_count": null,
   "metadata": {},
   "outputs": [],
   "source": [
    "interseccionn = interseccionn.drop(\n",
    "    columns=[\n",
    "        'banos', 'deposito', 'estrato', 'garajes', 'piso', \n",
    "        'tiempodeconstruido', 'vigilancia', 'vista',\n",
    "        'zonalavanderia', 'latitud', 'longitud', \n",
    "        'vista modificado2', 'geometry'\n",
    "    ])"
   ]
  },
  {
   "cell_type": "code",
   "execution_count": null,
   "metadata": {},
   "outputs": [],
   "source": [
    "interseccionn.columns"
   ]
  },
  {
   "cell_type": "code",
   "execution_count": null,
   "metadata": {},
   "outputs": [],
   "source": [
    "interseccionn = interseccionn.rename(columns={'banos modificado':'banos_modificado', 'garajes modificado3': 'garajes_modificado3', 'piso_modificado3': 'piso modificado3', 'vista modificado': 'vista_modificado', 'zonalavanderia modificado': 'zonalavanderia_modificado', 'vigilancia modificado': 'vigilancia_modificado', 'deposito modificado': 'deposito_modificado', 'tiempodeconstruido modificado': 'tiempodeconstruido_modificado'})"
   ]
  },
  {
   "cell_type": "code",
   "execution_count": null,
   "metadata": {},
   "outputs": [],
   "source": [
    "interseccionn.to_csv(r'C:\\Users\\William\\Desktop\\el algoritmo es correcto\\datos_modelobrms.csv')"
   ]
  },
  {
   "cell_type": "code",
   "execution_count": null,
   "metadata": {},
   "outputs": [],
   "source": [
    "model = brms.fit_model(\n",
    "    \"y ~ balcon + banoservicio + cuartoservicio + estudio + habitaciones + halldealcobas + parqueaderovisitantes + remodelado + saloncomunal + terraza + valorventa + banos_modificado + garajes_modificado3 + piso_modificado3 + vista_modificado + zonalavanderia_modificado + vigilancia_modificado + deposito_modificado + tiempodeconstruido_modificado + (1 + area + valorventa|LocNombre/GRUPOP_TER/ESTRATO)\",\n",
    "    data = interseccionn.values,\n",
    "    family = \"Gamma\",\n",
    "    priors = [(\"Gamma(1,1)\", \" b \"), (\"Gamma(1,1)\", \"sd\")],\n",
    "    # chains = 1,\n",
    "    # iter = 5000\n",
    "    )"
   ]
  },
  {
   "cell_type": "code",
   "execution_count": null,
   "metadata": {},
   "outputs": [],
   "source": [
    "from pybrms import pybrms"
   ]
  },
  {
   "cell_type": "code",
   "execution_count": null,
   "metadata": {},
   "outputs": [],
   "source": [
    "import rpy2.robjects.packages as rpackages\n",
    "from rpy2.robjects import StrVector\n",
    "utils = rpackages.importr(\"utils\")\n",
    "utils.install_packages(StrVector(('brms',)))\n",
    "brms = rpackages.importr(\"brms\")"
   ]
  },
  {
   "cell_type": "code",
   "execution_count": null,
   "metadata": {},
   "outputs": [],
   "source": [
    "from pybrms import pybrms"
   ]
  },
  {
   "cell_type": "code",
   "execution_count": null,
   "metadata": {},
   "outputs": [],
   "source": [
    "import rpy2.robjects.packages as rpackages\n",
    "from rpy2.robjects import StrVector\n",
    "utils = rpackages.importr(\"utils\")\n",
    "utils.install_packages(StrVector(('brms',)))\n",
    "brms = rpackages.importr(\"brms\")"
   ]
  },
  {
   "cell_type": "code",
   "execution_count": null,
   "metadata": {
    "tags": []
   },
   "outputs": [],
   "source": [
    "dir(brms)"
   ]
  },
  {
   "cell_type": "code",
   "execution_count": null,
   "metadata": {},
   "outputs": [],
   "source": [
    "import rpy2.robjects.packages as rpackages\n",
    "brms = rpackages.importr(\"brms\")\n",
    "# from pybrms import pybrms\n",
    "epilepsy = brms.get_brms_data(\"epilepsy\")\n",
    "model = brms.fit(\n",
    "formula = \"count ~ zAge + zBase x Trt + (1 | patient)\",\n",
    "data = epilepsy,\n",
    "family = \"poisson\"\n",
    ")"
   ]
  },
  {
   "cell_type": "code",
   "execution_count": null,
   "metadata": {},
   "outputs": [],
   "source": []
  }
 ]
}