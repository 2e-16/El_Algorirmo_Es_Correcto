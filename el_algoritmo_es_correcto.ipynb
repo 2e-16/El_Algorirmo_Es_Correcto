{
 "metadata": {
  "language_info": {
   "codemirror_mode": {
    "name": "ipython",
    "version": 3
   },
   "file_extension": ".py",
   "mimetype": "text/x-python",
   "name": "python",
   "nbconvert_exporter": "python",
   "pygments_lexer": "ipython3",
   "version": "3.7.9-final"
  },
  "orig_nbformat": 2,
  "kernelspec": {
   "name": "python3",
   "display_name": "Python 3.7.9 64-bit",
   "metadata": {
    "interpreter": {
     "hash": "b37351ac619a975f7c5909a6502929d3f44de011fa3b12a61ff626914f6002ee"
    }
   }
  }
 },
 "nbformat": 4,
 "nbformat_minor": 2,
 "cells": [
  {
   "cell_type": "code",
   "execution_count": null,
   "metadata": {},
   "outputs": [],
   "source": [
    "import pandas as pd\n",
    "import numpy as np\n",
    "import re\n",
    "import os"
   ]
  },
  {
   "cell_type": "code",
   "execution_count": null,
   "metadata": {},
   "outputs": [],
   "source": [
    "carpeta_path = r'C:\\Users\\William\\Desktop\\el algoritmo es correcto'\n",
    "archivo_train = r'train_data.csv'\n",
    "path_train = os.path.join(carpeta_path, archivo_train)"
   ]
  },
  {
   "cell_type": "code",
   "execution_count": null,
   "metadata": {},
   "outputs": [],
   "source": [
    "train = pd.read_csv(\n",
    "    path_train, \n",
    "    dtype={\n",
    "        \"tiempodeconstruido\": str,\n",
    "        \"vista\": str,\n",
    "        \"tipoinmueble\": str,\n",
    "        \"tiponegocio\": str,\n",
    "        'valorventa': 'int64',\n",
    "        # 'area': 'int64'\n",
    "    }\n",
    ")\n",
    "train['data'] = 'train'"
   ]
  },
  {
   "cell_type": "code",
   "execution_count": null,
   "metadata": {},
   "outputs": [],
   "source": [
    "train.shape"
   ]
  },
  {
   "cell_type": "code",
   "execution_count": null,
   "metadata": {},
   "outputs": [],
   "source": [
    "carpeta_path = r'C:\\Users\\William\\Desktop\\el algoritmo es correcto'\n",
    "archivo_test = r'test_data.csv'\n",
    "path_test = os.path.join(carpeta_path, archivo_test)"
   ]
  },
  {
   "cell_type": "code",
   "execution_count": null,
   "metadata": {},
   "outputs": [],
   "source": [
    "test = pd.read_csv(\n",
    "    path_test, \n",
    "    dtype={\n",
    "        \"tiempodeconstruido\": str,\n",
    "        \"vista\": str,\n",
    "        \"tipoinmueble\": str,\n",
    "        \"tiponegocio\": str,\n",
    "        'valorventa': 'int64',\n",
    "        # 'area': 'int64'\n",
    "    }\n",
    ")\n",
    "test['data'] = 'test'"
   ]
  },
  {
   "cell_type": "code",
   "execution_count": null,
   "metadata": {},
   "outputs": [],
   "source": [
    "test.shape"
   ]
  },
  {
   "cell_type": "code",
   "execution_count": null,
   "metadata": {},
   "outputs": [],
   "source": [
    "prueba = pd.concat([train, test], ignore_index=True)"
   ]
  },
  {
   "cell_type": "code",
   "execution_count": null,
   "metadata": {},
   "outputs": [],
   "source": [
    "prueba = prueba[\n",
    "    (prueba['porteria'].isna()) &\n",
    "    (prueba['conjuntocerrado']==0) &\n",
    "    (prueba['tipoinmueble']=='Casa') &\n",
    "    (prueba['ascensor'].isna()) &\n",
    "    ((prueba['gimnasio'].isna()) | (prueba['gimnasio']==0)) &\n",
    "    (prueba['piscina'].isna()) &\n",
    "    ((prueba['area']<1500) & (prueba['area']>35)) &\n",
    "    ((prueba['piso']<5) | (prueba['piso'].isna())) &\n",
    "    ((prueba['habitaciones']<15) & (prueba['habitaciones']>0))\n",
    "]"
   ]
  },
  {
   "cell_type": "code",
   "execution_count": null,
   "metadata": {},
   "outputs": [],
   "source": [
    "columnas_no_usar = ['ascensor', 'tipoinmueble', 'porteria', 'conjuntocerrado', 'gimnasio', 'piscina', 'valoradministracion','tiponegocio']\n",
    "prueba = prueba.drop(columns = columnas_no_usar)"
   ]
  },
  {
   "cell_type": "code",
   "execution_count": null,
   "metadata": {},
   "outputs": [],
   "source": [
    "prueba['banos'] = np.where(\n",
    "    prueba['banos']==0,\n",
    "    1,\n",
    "    np.where(\n",
    "        prueba['banos']>5,\n",
    "        5,\n",
    "        np.where(\n",
    "            prueba['banos'].isna(),\n",
    "            1,\n",
    "            prueba['banos']\n",
    "        )\n",
    "    )\n",
    ")"
   ]
  },
  {
   "cell_type": "code",
   "execution_count": null,
   "metadata": {},
   "outputs": [],
   "source": [
    "prueba['garajes'] = np.where(\n",
    "    prueba['garajes']>4,\n",
    "    5,\n",
    "    np.where(\n",
    "        prueba['garajes']<=4,\n",
    "        prueba['garajes'],\n",
    "        'No define'\n",
    "    )\n",
    ").astype(str)"
   ]
  },
  {
   "cell_type": "code",
   "execution_count": null,
   "metadata": {},
   "outputs": [],
   "source": [
    "prueba['piso'] = np.where(\n",
    "    prueba['piso']>4,\n",
    "    4,\n",
    "    np.where(\n",
    "        prueba['piso']<=4,\n",
    "        prueba['piso'],\n",
    "        'No define'\n",
    "    )\n",
    ").astype(str)"
   ]
  },
  {
   "cell_type": "code",
   "execution_count": null,
   "metadata": {},
   "outputs": [],
   "source": [
    "prueba['vista'] = np.where(\n",
    "    prueba['vista'].notna(),\n",
    "    prueba['vista'],\n",
    "    'No defina'\n",
    ")"
   ]
  },
  {
   "cell_type": "code",
   "execution_count": null,
   "metadata": {},
   "outputs": [],
   "source": [
    "prueba['zonalavanderia'] = np.where(\n",
    "    prueba['deposito'].isna(),\n",
    "    'No define',\n",
    "    1\n",
    ").astype(str)"
   ]
  },
  {
   "cell_type": "code",
   "execution_count": null,
   "metadata": {},
   "outputs": [],
   "source": [
    "prueba['vigilancia'] = np.where(\n",
    "    prueba['vigilancia'].isna(),\n",
    "    'No define',\n",
    "    prueba['vigilancia']\n",
    ").astype(str)"
   ]
  },
  {
   "cell_type": "code",
   "execution_count": null,
   "metadata": {},
   "outputs": [],
   "source": [
    "prueba['deposito'] = np.where(\n",
    "    prueba['deposito']==0,\n",
    "    'No',\n",
    "    np.where(\n",
    "        prueba['deposito']==1,\n",
    "        'Si',\n",
    "        'No define'\n",
    "    )\n",
    ")"
   ]
  },
  {
   "cell_type": "code",
   "execution_count": null,
   "metadata": {},
   "outputs": [],
   "source": [
    "prueba['tiempodeconstruido'] = np.where(\n",
    "    prueba['tiempodeconstruido'].isna(),\n",
    "    'No define',\n",
    "    prueba['tiempodeconstruido']\n",
    ")"
   ]
  },
  {
   "cell_type": "code",
   "execution_count": null,
   "metadata": {},
   "outputs": [],
   "source": [
    "columnas_valor0 = [\n",
    "    'balcon', 'banoservicio', 'cuartoservicio', 'estudio', 'halldealcobas', \n",
    "    'remodelado', 'parqueaderovisitantes', 'saloncomunal','terraza']\n",
    "prueba[columnas_valor0] = prueba[columnas_valor0].fillna(0)"
   ]
  },
  {
   "cell_type": "code",
   "execution_count": null,
   "metadata": {},
   "outputs": [],
   "source": [
    "prueba.info()"
   ]
  },
  {
   "cell_type": "code",
   "execution_count": null,
   "metadata": {},
   "outputs": [],
   "source": [
    "prueba[['habitaciones', 'banos', 'estrato']].plot(kind = 'box')"
   ]
  },
  {
   "cell_type": "code",
   "execution_count": null,
   "metadata": {},
   "outputs": [],
   "source": [
    "prueba['y'] = prueba['valorventa']/prueba['area']"
   ]
  },
  {
   "cell_type": "code",
   "execution_count": null,
   "metadata": {},
   "outputs": [],
   "source": [
    "prueba.groupby('data', as_index=False).id.count()"
   ]
  },
  {
   "cell_type": "code",
   "execution_count": null,
   "metadata": {},
   "outputs": [],
   "source": [
    "prueba = prueba[prueba['y']<prueba['y'].quantile(0.95).astype('int64')]"
   ]
  },
  {
   "cell_type": "code",
   "execution_count": null,
   "metadata": {},
   "outputs": [],
   "source": [
    "prueba[[\"y\",\"estrato\", \"habitaciones\"]].boxplot(by=[\"estrato\", \"habitaciones\"], figsize=(10,10))"
   ]
  },
  {
   "cell_type": "code",
   "execution_count": null,
   "metadata": {},
   "outputs": [],
   "source": [
    "import geopandas"
   ]
  },
  {
   "cell_type": "code",
   "execution_count": null,
   "metadata": {},
   "outputs": [],
   "source": [
    "localidades_path = r'C:\\Users\\William\\Desktop\\el algoritmo es correcto\\Datos abiertos bogota\\localidades.json'\n",
    "localidades = geopandas.read_file(localidades_path, crs={'init':'epsg:4686'})"
   ]
  },
  {
   "cell_type": "code",
   "execution_count": null,
   "metadata": {},
   "outputs": [],
   "source": [
    "localidades = localidades[['LocNombre', 'geometry']]"
   ]
  },
  {
   "cell_type": "code",
   "execution_count": null,
   "metadata": {},
   "outputs": [],
   "source": [
    "estratificacion_path = r'C:\\Users\\William\\Desktop\\el algoritmo es correcto\\Datos abiertos bogota\\manzana_estratificacion.json'\n",
    "estratificacion = geopandas.read_file(estratificacion_path, crs={'init':'epsg:4686'})"
   ]
  },
  {
   "cell_type": "code",
   "execution_count": null,
   "metadata": {},
   "outputs": [],
   "source": [
    "estratificacion = estratificacion[['ESTRATO', 'geometry']]"
   ]
  },
  {
   "cell_type": "code",
   "execution_count": null,
   "metadata": {},
   "outputs": [],
   "source": [
    "casas = geopandas.GeoDataFrame(\n",
    "    prueba, geometry=geopandas.points_from_xy(prueba.longitud, prueba.latitud), crs={'init': 'epsg:4326'})"
   ]
  },
  {
   "cell_type": "code",
   "execution_count": null,
   "metadata": {},
   "outputs": [],
   "source": [
    "avaluo_path = r'C:\\Users\\William\\Desktop\\el algoritmo es correcto\\Datos abiertos bogota\\avaluo'\n",
    "avaluo = geopandas.read_file(avaluo_path, crs={'init':'epsg:4686'})"
   ]
  },
  {
   "cell_type": "code",
   "execution_count": null,
   "metadata": {},
   "outputs": [],
   "source": [
    "avaluo = avaluo[['CP_TERR_AR', 'GRUPOP_TER', 'AVALUO_COM', 'AVALUO_CAT', 'geometry']]"
   ]
  },
  {
   "cell_type": "code",
   "execution_count": null,
   "metadata": {},
   "outputs": [],
   "source": [
    "avaluo = avaluo[\n",
    "    (avaluo['AVALUO_CAT']<avaluo['AVALUO_CAT'].quantile(0.99)) &\n",
    "    (avaluo['AVALUO_CAT']>avaluo['AVALUO_CAT'].quantile(0.01)) &\n",
    "    (avaluo['AVALUO_COM']<avaluo['AVALUO_COM'].quantile(0.99)) &\n",
    "    (avaluo['AVALUO_COM']>avaluo['AVALUO_COM'].quantile(0.01))\n",
    "]"
   ]
  },
  {
   "cell_type": "code",
   "execution_count": null,
   "metadata": {},
   "outputs": [],
   "source": [
    "pd.concat(\n",
    "    [avaluo[['AVALUO_CAT', 'AVALUO_COM']].quantile(np.linspace(0,1,21)).astype('int64'),\n",
    "    casas[['y']].quantile(np.linspace(0,1,21)).astype('int64')],\n",
    "    axis=1)"
   ]
  },
  {
   "cell_type": "code",
   "execution_count": null,
   "metadata": {},
   "outputs": [],
   "source": [
    "interseccion1 = geopandas.sjoin(left_df=casas, right_df=estratificacion, how='left', op='intersects').drop(columns=['index_right'])"
   ]
  },
  {
   "cell_type": "code",
   "execution_count": null,
   "metadata": {},
   "outputs": [],
   "source": [
    "interseccion1.columns"
   ]
  },
  {
   "cell_type": "code",
   "execution_count": null,
   "metadata": {},
   "outputs": [],
   "source": [
    "interseccion2 = geopandas.sjoin(left_df=interseccion1, right_df=avaluo, how='left', op='intersects').drop(columns=['index_right'])"
   ]
  },
  {
   "cell_type": "code",
   "execution_count": null,
   "metadata": {},
   "outputs": [],
   "source": [
    "interseccion2.columns"
   ]
  },
  {
   "cell_type": "code",
   "execution_count": null,
   "metadata": {},
   "outputs": [],
   "source": [
    "columnas_rellenar = ['CP_TERR_AR', 'GRUPOP_TER']\n",
    "interseccion2[columnas_rellenar] = interseccion2[columnas_rellenar].fillna('No define')"
   ]
  },
  {
   "cell_type": "code",
   "execution_count": null,
   "metadata": {},
   "outputs": [],
   "source": [
    "interseccion2.info()"
   ]
  },
  {
   "cell_type": "code",
   "execution_count": null,
   "metadata": {},
   "outputs": [],
   "source": [
    "interseccion3 = geopandas.sjoin(left_df=interseccion2, right_df=localidades, how='left', op='intersects').drop(columns=['index_right'])"
   ]
  },
  {
   "cell_type": "code",
   "execution_count": null,
   "metadata": {},
   "outputs": [],
   "source": [
    "valorref_path = r'C:\\Users\\William\\Desktop\\el algoritmo es correcto\\Datos abiertos bogota\\valor_ref'\n",
    "valorref = geopandas.read_file(valorref_path, crs={'init':'epsg:4686'})"
   ]
  },
  {
   "cell_type": "code",
   "execution_count": null,
   "metadata": {},
   "outputs": [],
   "source": [
    "valorref = valorref[['V_REF', 'ANO', 'geometry']]"
   ]
  },
  {
   "cell_type": "code",
   "execution_count": null,
   "metadata": {},
   "outputs": [],
   "source": [
    "interseccion4 = geopandas.sjoin(left_df=interseccion3, right_df=valorref, how='left', op='intersects').drop(columns=['index_right'])"
   ]
  },
  {
   "cell_type": "code",
   "execution_count": null,
   "metadata": {},
   "outputs": [],
   "source": [
    "interseccion4 = interseccion4.sort_values(['id', 'ANO']).drop_duplicates('id', keep='last')"
   ]
  },
  {
   "cell_type": "code",
   "execution_count": null,
   "metadata": {},
   "outputs": [],
   "source": [
    "import seaborn as sns\n",
    "# sns.pairplot(interseccion4[['y','CP_TERR_AR', 'GRUPOP_TER','AVALUO_COM', 'AVALUO_CAT', 'V_REF']], hue=\"GRUPOP_TER\")"
   ]
  },
  {
   "cell_type": "code",
   "execution_count": null,
   "metadata": {},
   "outputs": [],
   "source": [
    "# sns.pairplot(interseccion4[['y','CP_TERR_AR', 'GRUPOP_TER','AVALUO_COM', 'AVALUO_CAT', 'V_REF']], hue=\"CP_TERR_AR\", kind=\"kde\")"
   ]
  },
  {
   "cell_type": "code",
   "execution_count": null,
   "metadata": {},
   "outputs": [],
   "source": [
    "# parque_path = r'C:\\Users\\William\\Desktop\\el algoritmo es correcto\\Datos abiertos bogota\\parque'\n",
    "# parque = geopandas.read_file(parque_path)"
   ]
  },
  {
   "cell_type": "code",
   "execution_count": null,
   "metadata": {},
   "outputs": [],
   "source": [
    "# canchas_path = r'C:\\Users\\William\\Desktop\\el algoritmo es correcto\\Datos abiertos bogota\\canchas'\n",
    "# canchas = geopandas.read_file(canchas_path, crs={'init':'epsg:4686'})"
   ]
  },
  {
   "cell_type": "code",
   "execution_count": null,
   "metadata": {},
   "outputs": [],
   "source": [
    "troncales_path = r'C:\\Users\\William\\Desktop\\el algoritmo es correcto\\Datos abiertos bogota\\transmilenio'\n",
    "troncales = geopandas.read_file(troncales_path, crs={'init':'epsg:4686'})"
   ]
  },
  {
   "cell_type": "code",
   "execution_count": null,
   "metadata": {},
   "outputs": [],
   "source": [
    "colegios_path = r'C:\\Users\\William\\Desktop\\el algoritmo es correcto\\Datos abiertos bogota\\colegios.csv'\n",
    "colegios = pd.read_csv(colegios_path, encoding='latin1', sep=';')\n",
    "colegios.X = colegios.X.str.replace(',','.').astype(float)"
   ]
  },
  {
   "cell_type": "code",
   "execution_count": null,
   "metadata": {},
   "outputs": [],
   "source": [
    "colegios = geopandas.GeoDataFrame(\n",
    "    colegios, geometry=geopandas.points_from_xy(colegios.X, colegios.Y), crs={'init': 'epsg:4326'})"
   ]
  },
  {
   "cell_type": "code",
   "execution_count": null,
   "metadata": {},
   "outputs": [],
   "source": [
    "colegios['geometry'] = colegios.buffer(0.01)"
   ]
  },
  {
   "cell_type": "code",
   "execution_count": null,
   "metadata": {},
   "outputs": [],
   "source": [
    "columna_colegios = ['COLEGIO ELISA BORRERO DE PASTRANA', 'CENTRO LESTONNAC - COMPAÑIA DE MARIA']\n",
    "colegios_sub = colegios[colegios.NOMBRE_ESTABLECIMIENTO_EDUCATIVO.isin(columna_colegios)]"
   ]
  },
  {
   "cell_type": "code",
   "execution_count": null,
   "metadata": {},
   "outputs": [],
   "source": [
    "bases1 = localidades.plot(color='white', edgecolor='black', figsize=(10, 10), zorder=1)\n",
    "bases2 = troncales.plot(ax=bases1, figsize=(10, 10), zorder=2, color='blue', markersize=.1)\n",
    "bases3 = colegios_sub.head().buffer(0.001).plot(ax=bases2, figsize=(10, 10), zorder=3, color='red',alpha=0.5)\n",
    "bases4 = colegios_sub.head().plot(ax=bases3, figsize=(10, 10), zorder=3, color='red',markersize=.1)\n",
    "bases5 = interseccion3[interseccion3['LocNombre']=='ENGATIVA'].sample(50, random_state=42).plot(ax=bases3, figsize=(10, 10), zorder=3, color='orange',markersize=.1)"
   ]
  },
  {
   "cell_type": "code",
   "execution_count": null,
   "metadata": {},
   "outputs": [],
   "source": [
    "cant_colegios = geopandas.sjoin(\n",
    "    left_df=casas[['id', 'geometry']], \n",
    "    right_df=colegios[['NOMBRE_ESTABLECIMIENTO_EDUCATIVO', 'geometry']], \n",
    "    how='left', \n",
    "    op='intersects').drop(columns=['index_right']).\\\n",
    "        groupby('id', as_index=False, dropna=False).\\\n",
    "        agg(**{'cantidad de colegios cerca': pd.NamedAgg('NOMBRE_ESTABLECIMIENTO_EDUCATIVO', 'count')})\n",
    "cant_colegios"
   ]
  },
  {
   "cell_type": "code",
   "execution_count": null,
   "metadata": {},
   "outputs": [],
   "source": [
    "interseccion5 = pd.merge(interseccion4, cant_colegios, how='inner', on='id')"
   ]
  },
  {
   "cell_type": "code",
   "execution_count": null,
   "metadata": {},
   "outputs": [],
   "source": [
    "interseccion5['Cant Col. Cerca'] = np.where(\n",
    "    interseccion5['cantidad de colegios cerca']<3, \n",
    "    interseccion5['cantidad de colegios cerca'].astype(str), \n",
    "    '3+')"
   ]
  },
  {
   "cell_type": "code",
   "execution_count": null,
   "metadata": {},
   "outputs": [],
   "source": [
    "import seaborn as sns\n",
    "# sns.pairplot()\n",
    "g = sns.PairGrid(interseccion5[['y', 'cantidad de colegios cerca', 'Cant Col. Cerca']], hue='Cant Col. Cerca', diag_sharey=False)\n",
    "g.map_upper(sns.scatterplot)\n",
    "g.map_lower(sns.kdeplot)\n",
    "g.map_diag(sns.kdeplot)"
   ]
  },
  {
   "cell_type": "code",
   "execution_count": null,
   "metadata": {},
   "outputs": [],
   "source": [
    " interseccionn = interseccion5"
   ]
  },
  {
   "cell_type": "code",
   "execution_count": null,
   "metadata": {},
   "outputs": [],
   "source": [
    "interseccionn = interseccionn[interseccionn['LocNombre'].notna()]"
   ]
  },
  {
   "cell_type": "code",
   "execution_count": null,
   "metadata": {},
   "outputs": [],
   "source": [
    "interseccionn.info()"
   ]
  },
  {
   "cell_type": "code",
   "execution_count": null,
   "metadata": {},
   "outputs": [],
   "source": [
    "interseccionn['ESTRATO'] = np.where(\n",
    "    interseccionn['ESTRATO'].isna() | interseccionn['ESTRATO']==0,\n",
    "    np.NaN,\n",
    "    interseccionn['ESTRATO']\n",
    ")"
   ]
  },
  {
   "cell_type": "code",
   "execution_count": null,
   "metadata": {},
   "outputs": [],
   "source": [
    "from sklearn.neighbors import KNeighborsClassifier, KNeighborsRegressor\n",
    "from sklearn.tree import DecisionTreeRegressor\n",
    "from sklearn.model_selection import train_test_split\n",
    "from sklearn.metrics import mean_squared_error, accuracy_score, mean_absolute_error, mean_absolute_percentage_error\n",
    "import matplotlib.pyplot as plt"
   ]
  },
  {
   "cell_type": "code",
   "execution_count": null,
   "metadata": {},
   "outputs": [],
   "source": [
    "train = interseccionn.loc[interseccionn['ESTRATO'].notna(),['ESTRATO', 'latitud', 'longitud']]\n",
    "X = train[['latitud', 'longitud']].values\n",
    "y = train[['ESTRATO']].values\n",
    "# Create training and test sets\n",
    "X_train, X_test, y_train, y_test = train_test_split(X, y, test_size = 0.3, random_state=42)\n",
    "neigh = KNeighborsClassifier(n_neighbors=3, metric = 'euclidean')\n",
    "neigh.fit(X_train, y_train.ravel())\n",
    "y_pred = neigh.predict(X_test)\n",
    "print(\"R^2: {}\".format(neigh.score(X_test, y_test)))\n",
    "rmse = np.sqrt(mean_squared_error(y_test, y_pred))\n",
    "print(\"Root Mean Squared Error: {}\".format(rmse))\n",
    "print(\"Accuracy: {}\".format(accuracy_score(y_test, y_pred)))"
   ]
  },
  {
   "cell_type": "code",
   "execution_count": null,
   "metadata": {},
   "outputs": [],
   "source": [
    "valores = interseccionn.loc[interseccionn['ESTRATO'].isnull(),['latitud', 'longitud']].values\n",
    "interseccionn.loc[interseccionn['ESTRATO'].isnull(),'ESTRATO'] = neigh.predict(valores)"
   ]
  },
  {
   "cell_type": "code",
   "execution_count": null,
   "metadata": {},
   "outputs": [],
   "source": [
    "train = interseccionn.loc[interseccionn['AVALUO_COM'].notna(),['AVALUO_COM', 'latitud', 'longitud']]\n",
    "X = train[['latitud', 'longitud']].values\n",
    "y = train[['AVALUO_COM']].values\n",
    "# Create training and test sets\n",
    "X_train, X_test, y_train, y_test = train_test_split(X, y, test_size = 0.3, random_state=42)\n",
    "neigh = KNeighborsRegressor(algorithm='brute', n_neighbors=5,  leaf_size=1, p=2, weights='distance', metric='chebyshev', n_jobs=-1)\n",
    "neigh.fit(X_train, y_train.ravel())\n",
    "y_pred = neigh.predict(X_test)\n",
    "print(\"R^2: {}\".format(neigh.score(X_test, y_test)))\n",
    "rmse = np.sqrt(mean_squared_error(y_test, y_pred))\n",
    "print(\"Root Mean Squared Error: {}\".format(rmse))"
   ]
  },
  {
   "cell_type": "code",
   "execution_count": null,
   "metadata": {},
   "outputs": [],
   "source": [
    "valores = interseccionn.loc[interseccionn['AVALUO_COM'].isnull(),['latitud', 'longitud']].values\n",
    "interseccionn.loc[interseccionn['AVALUO_COM'].isnull(),'AVALUO_COM'] = neigh.predict(valores)"
   ]
  },
  {
   "cell_type": "code",
   "execution_count": null,
   "metadata": {},
   "outputs": [],
   "source": [
    "train = interseccionn.loc[interseccionn['AVALUO_CAT'].notna(),['AVALUO_CAT', 'latitud', 'longitud']]\n",
    "X = train[['latitud', 'longitud']].values\n",
    "y = train[['AVALUO_CAT']].values\n",
    "# Create training and test sets\n",
    "X_train, X_test, y_train, y_test = train_test_split(X, y, test_size = 0.3, random_state=42)\n",
    "neigh = KNeighborsRegressor(algorithm='brute', n_neighbors=5,  leaf_size=1, p=2, weights='distance', metric='chebyshev', n_jobs=-1)\n",
    "neigh.fit(X_train, y_train.ravel())\n",
    "y_pred = neigh.predict(X_test)\n",
    "print(\"R^2: {}\".format(neigh.score(X_test, y_test)))\n",
    "rmse = np.sqrt(mean_squared_error(y_test, y_pred))\n",
    "print(\"Root Mean Squared Error: {}\".format(rmse))"
   ]
  },
  {
   "cell_type": "code",
   "execution_count": null,
   "metadata": {},
   "outputs": [],
   "source": [
    "valores = interseccionn.loc[interseccionn['AVALUO_CAT'].isnull(),['latitud', 'longitud']].values\n",
    "interseccionn.loc[interseccionn['AVALUO_CAT'].isnull(),'AVALUO_CAT'] = neigh.predict(valores)"
   ]
  },
  {
   "cell_type": "code",
   "execution_count": null,
   "metadata": {},
   "outputs": [],
   "source": [
    "interseccionn.info()"
   ]
  },
  {
   "cell_type": "code",
   "execution_count": null,
   "metadata": {},
   "outputs": [],
   "source": [
    "interseccionn.groupby(['ESTRATO'], as_index=False, dropna=False).agg(**{'Cantidad': pd.NamedAgg('latitud','count')})"
   ]
  },
  {
   "cell_type": "code",
   "execution_count": null,
   "metadata": {},
   "outputs": [],
   "source": [
    "a = interseccionn['estrato'] - interseccionn['ESTRATO']\n",
    "pd.DataFrame(a, columns=['Dif Estrato']).reset_index(drop=False).rename(columns={'index':'Cantidad'}).groupby('Dif Estrato', as_index=False, dropna=False).count()"
   ]
  },
  {
   "cell_type": "code",
   "execution_count": null,
   "metadata": {},
   "outputs": [],
   "source": [
    "interseccionn = interseccionn.set_index('id')"
   ]
  },
  {
   "cell_type": "code",
   "execution_count": null,
   "metadata": {},
   "outputs": [],
   "source": [
    "interseccionn.columns"
   ]
  },
  {
   "cell_type": "code",
   "execution_count": null,
   "metadata": {},
   "outputs": [],
   "source": [
    "eliminar_columnas = ['estrato', 'geometry', 'ANO']\n",
    "interseccionn = interseccionn.drop(columns=eliminar_columnas)"
   ]
  },
  {
   "cell_type": "code",
   "execution_count": null,
   "metadata": {},
   "outputs": [],
   "source": [
    "interseccionn.loc[interseccionn[\"habitaciones\"]<5,[\"y\",\"ESTRATO\", \"habitaciones\"]].boxplot(by=[\"ESTRATO\", \"habitaciones\"], figsize=(10,10))"
   ]
  },
  {
   "cell_type": "code",
   "execution_count": null,
   "metadata": {},
   "outputs": [],
   "source": [
    "columnas_dummy = [\n",
    "    'deposito', 'garajes', 'piso', 'tiempodeconstruido', \n",
    "    'vigilancia',  'vista', 'zonalavanderia', 'LocNombre'\n",
    "     ]\n",
    "# 'LocNombre', 'V_REF', ,\n",
    "data1 = pd.get_dummies(\n",
    "    interseccionn.drop(columns=['latitud', 'longitud',   'Cant Col. Cerca', 'V_REF', 'AVALUO_COM','AVALUO_CAT','cantidad de colegios cerca', 'GRUPOP_TER', 'CP_TERR_AR']),\n",
    "    drop_first=True, columns=columnas_dummy)"
   ]
  },
  {
   "cell_type": "code",
   "execution_count": null,
   "metadata": {},
   "outputs": [],
   "source": [
    "data1.columns"
   ]
  },
  {
   "cell_type": "code",
   "execution_count": null,
   "metadata": {},
   "outputs": [],
   "source": [
    "data_test = data1[data1['data']=='test'].drop(columns=['data'])\n",
    "data1 = data1[data1['data']=='train'].drop(columns=['data'])"
   ]
  },
  {
   "cell_type": "code",
   "execution_count": null,
   "metadata": {},
   "outputs": [],
   "source": [
    "X = data1.drop(columns=['y']).values\n",
    "y = data1[['y']].values\n",
    "\n",
    "# Create training and test sets\n",
    "X_train, X_test, y_train, y_test = train_test_split(X, y, test_size = 0.3, random_state=42)"
   ]
  },
  {
   "cell_type": "code",
   "execution_count": null,
   "metadata": {},
   "outputs": [],
   "source": [
    "print(X_train.shape)\n",
    "print(X_test.shape)\n",
    "print(y_train.shape)\n",
    "print(y_test.shape)\n",
    "print(data_test.shape)"
   ]
  },
  {
   "cell_type": "code",
   "execution_count": null,
   "metadata": {},
   "outputs": [],
   "source": [
    "data1.info()"
   ]
  },
  {
   "cell_type": "code",
   "execution_count": null,
   "metadata": {},
   "outputs": [],
   "source": [
    "mod = DecisionTreeRegressor(\n",
    "    criterion='friedman_mse',  \n",
    "    splitter='best', \n",
    "    max_depth=70, #None\n",
    "    min_samples_split=2, \n",
    "    min_weight_fraction_leaf=0.0, \n",
    "    max_leaf_nodes=None,\n",
    "    max_features='auto', #None\n",
    "    min_impurity_decrease=0,\n",
    "    random_state=0\n",
    ").fit(X_train, y_train)"
   ]
  },
  {
   "cell_type": "code",
   "execution_count": null,
   "metadata": {},
   "outputs": [],
   "source": [
    "mean_absolute_percentage_error(y_train, mod.predict(X_train))"
   ]
  },
  {
   "cell_type": "code",
   "execution_count": null,
   "metadata": {},
   "outputs": [],
   "source": [
    "mean_absolute_percentage_error(y_test, mod.predict(X_test))*1000"
   ]
  },
  {
   "cell_type": "code",
   "execution_count": null,
   "metadata": {},
   "outputs": [],
   "source": [
    "mean_absolute_percentage_error(\n",
    "    data_test[['y']].values,\n",
    "    mod.predict(data_test.drop(columns=['y']).values))*1000"
   ]
  },
  {
   "cell_type": "code",
   "execution_count": null,
   "metadata": {},
   "outputs": [],
   "source": [
    "# resultados = mod.predict(data_test.drop(columns=['y']).values)"
   ]
  },
  {
   "cell_type": "code",
   "execution_count": null,
   "metadata": {},
   "outputs": [],
   "source": [
    "# resultados_df = pd.DataFrame(resultados, index=data_test.index, columns=['valormt2_predicted'])\\\n",
    "#     .reset_index(drop=False).rename(columns={'index':'id'})"
   ]
  },
  {
   "cell_type": "code",
   "execution_count": null,
   "metadata": {},
   "outputs": [],
   "source": [
    "# resultados_df.to_csv(r'C:\\Users\\William\\Desktop\\el algoritmo es correcto\\resultado3.csv', index=False)"
   ]
  },
  {
   "source": [
    "## Modelo 2"
   ],
   "cell_type": "markdown",
   "metadata": {}
  },
  {
   "cell_type": "code",
   "execution_count": null,
   "metadata": {},
   "outputs": [],
   "source": [
    "# from sklearn.ensemble import RandomForestRegressor\n",
    "# from sklearn.model_selection import GridSearchCV\n",
    "# parameters = {\n",
    "#     'n_estimators': [10,50,100,150,200,250,500],\n",
    "#     'criterion': ['mse','mae'],\n",
    "#     'random_state': [0]\n",
    "# }\n",
    "# cvrf = GridSearchCV(RandomForestRegressor(), parameters, cv=2, n_jobs=-1)"
   ]
  },
  {
   "cell_type": "code",
   "execution_count": null,
   "metadata": {},
   "outputs": [],
   "source": [
    "# cvrf.fit(X_train, y_train)"
   ]
  },
  {
   "cell_type": "code",
   "execution_count": null,
   "metadata": {},
   "outputs": [],
   "source": [
    "RandomForestRegressor().get_params().keys()"
   ]
  },
  {
   "cell_type": "code",
   "execution_count": null,
   "metadata": {},
   "outputs": [],
   "source": [
    "# cvrf.best_params_"
   ]
  },
  {
   "cell_type": "code",
   "execution_count": null,
   "metadata": {},
   "outputs": [],
   "source": [
    "from sklearn.ensemble import RandomForestRegressor\n",
    "mod2 = RandomForestRegressor(random_state=0, n_jobs=-1).fit(X_train, y_train.ravel())"
   ]
  },
  {
   "cell_type": "code",
   "execution_count": null,
   "metadata": {},
   "outputs": [],
   "source": [
    "print(mean_absolute_percentage_error(y_train, mod2.predict(X_train)))\n",
    "print(mean_absolute_percentage_error(y_test, mod2.predict(X_test))*1000)\n",
    "print(mean_absolute_percentage_error(\n",
    "    data_test[['y']].values,\n",
    "    mod2.predict(data_test.drop(columns=['y']).values))*1000)"
   ]
  },
  {
   "cell_type": "code",
   "execution_count": null,
   "metadata": {},
   "outputs": [],
   "source": [
    "resultados = mod2.predict(data_test.drop(columns=['y']).values)*0.94\n",
    "resultados_df = pd.DataFrame(resultados, index=data_test.index, columns=['valormt2_predicted'])\\\n",
    "    .reset_index(drop=False).rename(columns={'index':'id'})\n",
    "resultados_df.to_csv(r'C:\\Users\\William\\Desktop\\el algoritmo es correcto\\resultado6.csv', index=False)"
   ]
  },
  {
   "cell_type": "code",
   "execution_count": null,
   "metadata": {},
   "outputs": [],
   "source": []
  }
 ]
}