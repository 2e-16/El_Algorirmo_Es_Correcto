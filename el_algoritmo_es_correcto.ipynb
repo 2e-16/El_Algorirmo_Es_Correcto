{
 "metadata": {
  "language_info": {
   "codemirror_mode": {
    "name": "ipython",
    "version": 3
   },
   "file_extension": ".py",
   "mimetype": "text/x-python",
   "name": "python",
   "nbconvert_exporter": "python",
   "pygments_lexer": "ipython3",
   "version": "3.7.9-final"
  },
  "orig_nbformat": 2,
  "kernelspec": {
   "name": "python3",
   "display_name": "Python 3.7.9 64-bit",
   "metadata": {
    "interpreter": {
     "hash": "b37351ac619a975f7c5909a6502929d3f44de011fa3b12a61ff626914f6002ee"
    }
   }
  }
 },
 "nbformat": 4,
 "nbformat_minor": 2,
 "cells": [
  {
   "cell_type": "code",
   "execution_count": null,
   "metadata": {},
   "outputs": [],
   "source": [
    "import pandas as pd\n",
    "import numpy as np\n",
    "import re\n",
    "import os"
   ]
  },
  {
   "cell_type": "code",
   "execution_count": null,
   "metadata": {},
   "outputs": [],
   "source": [
    "def base_no_horizontal(base):\n",
    "    base = base[\n",
    "        (base['porteria'].isna()) &\n",
    "        (base['conjuntocerrado']==0) &\n",
    "        (base['tipoinmueble']=='Casa') &\n",
    "        (base['ascensor'].isna()) &\n",
    "        ((base['gimmasio'].isna()) | (base['gimnasio']==0)) &\n",
    "        (base['piscina'].isna())\n",
    "        #Si encontramos gimnasios en la geocodificación comparar con los puntos que se quitaron\n",
    "    ]\n",
    "    return base"
   ]
  },
  {
   "cell_type": "code",
   "execution_count": null,
   "metadata": {},
   "outputs": [],
   "source": [
    "carpeta_path = r'C:\\Users\\William\\Desktop\\el algoritmo es correcto'\n",
    "archivo_train = r'train_data.csv'\n",
    "path_train = os.path.join(carpeta_path, archivo_train)"
   ]
  },
  {
   "cell_type": "code",
   "execution_count": null,
   "metadata": {},
   "outputs": [],
   "source": [
    "path_train"
   ]
  },
  {
   "cell_type": "code",
   "execution_count": null,
   "metadata": {},
   "outputs": [],
   "source": [
    "train = pd.read_csv(\n",
    "    path_train, \n",
    "    dtype={\n",
    "        \"tiempodeconstruido\": str,\n",
    "        \"vista\": str,\n",
    "        \"tipoinmueble\": str,\n",
    "        \"tiponegocio\": str,\n",
    "        'valorventa': 'int64',\n",
    "        # 'area': 'int64'\n",
    "    }\n",
    ")"
   ]
  },
  {
   "cell_type": "code",
   "execution_count": null,
   "metadata": {},
   "outputs": [],
   "source": [
    "train.info()"
   ]
  },
  {
   "cell_type": "code",
   "execution_count": null,
   "metadata": {},
   "outputs": [],
   "source": [
    "train.head()"
   ]
  },
  {
   "cell_type": "code",
   "execution_count": null,
   "metadata": {},
   "outputs": [],
   "source": [
    "for columna in train.columns:\n",
    "    if columna not in ['id', 'valoradministracion', 'valorventa', 'latitud', 'longitud']:\n",
    "        print(\"{}: \".format(columna), train[columna].unique())"
   ]
  },
  {
   "cell_type": "code",
   "execution_count": null,
   "metadata": {},
   "outputs": [],
   "source": [
    "prueba = train[\n",
    "    (train['porteria'].isna()) &\n",
    "    (train['conjuntocerrado']==0) &\n",
    "    (train['tipoinmueble']=='Casa') &\n",
    "    (train['ascensor'].isna()) &\n",
    "    ((train['gimnasio'].isna()) | (train['gimnasio']==0)) &\n",
    "    (train['piscina'].isna())\n",
    "]#.groupby(['estrato','banos'], as_index=False).agg(**{'Cantidad': pd.NamedAgg('area', 'count')}).head(30)"
   ]
  },
  {
   "source": [
    "## Analizar columnas\n",
    "\n",
    "### area\n",
    "\n",
    "* file:///C:/Users/William/Downloads/406-Article%20Text-891-1-10-20181207%20(1).pdf"
   ],
   "cell_type": "markdown",
   "metadata": {}
  },
  {
   "cell_type": "code",
   "execution_count": null,
   "metadata": {},
   "outputs": [],
   "source": [
    "train['area'].describe().astype('int64')"
   ]
  },
  {
   "cell_type": "code",
   "execution_count": null,
   "metadata": {},
   "outputs": [],
   "source": [
    "train['area'].quantile(np.linspace(0,1,21)).astype('int64')"
   ]
  },
  {
   "cell_type": "code",
   "execution_count": null,
   "metadata": {},
   "outputs": [],
   "source": [
    "train[train['area']<=100]['area'].plot(kind='box')"
   ]
  },
  {
   "cell_type": "code",
   "execution_count": null,
   "metadata": {},
   "outputs": [],
   "source": [
    "train[\n",
    "    (train['area']>=500) &\n",
    "    (train['area']<=10000)]['area'].plot(kind='box')"
   ]
  },
  {
   "cell_type": "code",
   "execution_count": null,
   "metadata": {},
   "outputs": [],
   "source": [
    "train[(train['area']>=1000)][['habitaciones', 'banos', 'estrato']].plot(kind = 'box')"
   ]
  },
  {
   "cell_type": "code",
   "execution_count": null,
   "metadata": {},
   "outputs": [],
   "source": [
    "train[(train['area']>=500) & (train['estrato']==0)]"
   ]
  },
  {
   "cell_type": "code",
   "execution_count": null,
   "metadata": {},
   "outputs": [],
   "source": [
    "# Propiedades con más de 20 años  es decir los que tengan más de 60 mts2\n",
    "train[\n",
    "    (train['tiempodeconstruido'].isin(['Entre 10 y 20 años','Más de 20 años','16 a 30 años'])) &\n",
    "    (train['area']<60)\n",
    "].shape"
   ]
  },
  {
   "cell_type": "code",
   "execution_count": null,
   "metadata": {},
   "outputs": [],
   "source": [
    "# Propiedades con más de 30 años  es decir los que tengan más de 80 mts2\n",
    "train[\n",
    "    (train['tiempodeconstruido']=='Más de 30 años') &\n",
    "    (train['area']<80)\n",
    "].shape"
   ]
  },
  {
   "cell_type": "code",
   "execution_count": null,
   "metadata": {},
   "outputs": [],
   "source": [
    "# Propiedades con menos de 20 años  es decir los que tengan más de 35 mts2\n",
    "train[\n",
    "    (train['tiempodeconstruido'].isin(\n",
    "        ['Entre 10 y 20 años', 'Entre 0 y 5 años', 'Entre 5 y 10 años',\n",
    "        '1 a 8 años', '9 a 15 años','Menos de 1 año','ntre 0 y 5 años'])) &\n",
    "    (train['area']<35)\n",
    "].shape"
   ]
  },
  {
   "cell_type": "code",
   "execution_count": null,
   "metadata": {},
   "outputs": [],
   "source": [
    "# Propiedades que de entrada no cumplen los 35 mts\n",
    "train[(train['area']<35)].shape"
   ]
  },
  {
   "cell_type": "code",
   "execution_count": null,
   "metadata": {},
   "outputs": [],
   "source": [
    "train[(train['area']<35)][['id','area', 'habitaciones', 'banos', 'valorventa']]"
   ]
  },
  {
   "cell_type": "code",
   "execution_count": null,
   "metadata": {},
   "outputs": [],
   "source": [
    "train.loc[10]"
   ]
  },
  {
   "cell_type": "code",
   "execution_count": null,
   "metadata": {},
   "outputs": [],
   "source": [
    "train[\"y\"] = train[\"valorventa\"]/train[\"area\"]"
   ]
  },
  {
   "cell_type": "code",
   "execution_count": null,
   "metadata": {},
   "outputs": [],
   "source": [
    "# train[\"y\"]\n",
    "f = train[\n",
    "    (train.valorventa < 800000000) & \n",
    "    (train.valorventa > 100000000) &\n",
    "    (train.area < 5000) &\n",
    "    (train.area > 35) &\n",
    "    (train.habitaciones.notna()) &\n",
    "    (train.banos.notna()) &\n",
    "    (train.estrato.isin([4,6,7])) &\n",
    "    (train.habitaciones.isin([1,3,8]))\n",
    "]\n",
    "f[[\"y\",\"estrato\", \"habitaciones\"]].boxplot(by=[\"estrato\", \"habitaciones\"], figsize=(10,10))"
   ]
  },
  {
   "cell_type": "code",
   "execution_count": null,
   "metadata": {},
   "outputs": [],
   "source": [
    "# id: 721798, 759440 Con estrato 0 son haciendas\n",
    "# Zonas retiradas de bogotá"
   ]
  },
  {
   "cell_type": "code",
   "execution_count": null,
   "metadata": {},
   "outputs": [],
   "source": [
    "import geopandas"
   ]
  },
  {
   "cell_type": "code",
   "execution_count": null,
   "metadata": {},
   "outputs": [],
   "source": [
    "localidades_path = r'C:\\Users\\William\\Desktop\\el algoritmo es correcto\\Datos abiertos bogota\\localidades.json'\n",
    "localidades = geopandas.read_file(localidades_path, crs={'init':'epsg:4686'})"
   ]
  },
  {
   "cell_type": "code",
   "execution_count": null,
   "metadata": {},
   "outputs": [],
   "source": [
    "localidades_geo = localidades.plot(figsize=(10, 10), column='LocCodigo', zorder=1)"
   ]
  },
  {
   "cell_type": "code",
   "execution_count": null,
   "metadata": {},
   "outputs": [],
   "source": [
    "estratificacion_path = r'C:\\Users\\William\\Desktop\\el algoritmo es correcto\\Datos abiertos bogota\\manzana_estratificacion.json'\n",
    "estratificacion = geopandas.read_file(estratificacion_path, crs={'init':'epsg:4686'})"
   ]
  },
  {
   "cell_type": "code",
   "execution_count": null,
   "metadata": {},
   "outputs": [],
   "source": [
    "casas = geopandas.GeoDataFrame(\n",
    "    prueba, geometry=geopandas.points_from_xy(prueba.longitud, prueba.latitud), crs={'init': 'epsg:4326'})"
   ]
  },
  {
   "cell_type": "code",
   "execution_count": null,
   "metadata": {},
   "outputs": [],
   "source": [
    "localidades_geo = localidades.plot(color='white', edgecolor='black', figsize=(10, 10), zorder=1)\n",
    "estratificacion_geo = estratificacion.plot(ax=localidades_geo, figsize=(10, 10), zorder=2, cmap='OrRd', legend=True)\n",
    "casas_geo = casas.plot(ax=localidades_geo, figsize=(10, 10), markersize=.1, zorder=3, marker='x')"
   ]
  },
  {
   "cell_type": "code",
   "execution_count": null,
   "metadata": {},
   "outputs": [],
   "source": [
    "estrato_intersectado = geopandas.sjoin(left_df=casas, right_df=estratificacion, how='left', op='intersects')"
   ]
  },
  {
   "cell_type": "code",
   "execution_count": null,
   "metadata": {},
   "outputs": [],
   "source": [
    "estrato_intersectado['ESTRATO'] = np.where(\n",
    "    estrato_intersectado['ESTRATO'].isna() | estrato_intersectado['ESTRATO']==0,\n",
    "    np.NaN,\n",
    "    estrato_intersectado['ESTRATO']\n",
    ")"
   ]
  },
  {
   "cell_type": "code",
   "execution_count": null,
   "metadata": {},
   "outputs": [],
   "source": [
    "import numpy as np\n",
    "import pandas as pd\n",
    "from sklearn.neighbors import KNeighborsClassifier\n",
    "from sklearn.model_selection import train_test_split\n",
    "from sklearn.metrics import mean_squared_error, accuracy_score"
   ]
  },
  {
   "cell_type": "code",
   "execution_count": null,
   "metadata": {},
   "outputs": [],
   "source": [
    "train = estrato_intersectado.loc[estrato_intersectado['ESTRATO'].notna(),['ESTRATO', 'latitud', 'longitud']]\n",
    "# test = estrato_intersectado.loc[estrato_intersectado['ESTRATO'].isnull(),['ESTRATO', 'latitud', 'longitud']]"
   ]
  },
  {
   "cell_type": "code",
   "execution_count": null,
   "metadata": {},
   "outputs": [],
   "source": [
    "X = train[['latitud', 'longitud']].values\n",
    "y = train[['ESTRATO']].values\n",
    "# Create training and test sets\n",
    "X_train, X_test, y_train, y_test = train_test_split(X, y, test_size = 0.3, random_state=42)"
   ]
  },
  {
   "cell_type": "code",
   "execution_count": null,
   "metadata": {},
   "outputs": [],
   "source": [
    "print(X_train.shape)\n",
    "print(X_test.shape)\n",
    "print(y_train.shape)\n",
    "print(y_test.shape)"
   ]
  },
  {
   "cell_type": "code",
   "execution_count": null,
   "metadata": {},
   "outputs": [],
   "source": [
    "# Se crea el modelo con la base de entrenamiento\n",
    "resultados = {}\n",
    "for i in range(1,12):\n",
    "    neigh = KNeighborsClassifier(n_neighbors=i, metric = 'euclidean')\n",
    "    neigh.fit(X_train, y_train.ravel())\n",
    "    resultados[i] = neigh.score(X_test, y_test)"
   ]
  },
  {
   "cell_type": "code",
   "execution_count": null,
   "metadata": {},
   "outputs": [],
   "source": [
    "import matplotlib.pyplot as plt\n",
    "\n",
    "plt.plot(list(resultados.keys()), list(resultados.values()))\n",
    "plt.show()"
   ]
  },
  {
   "cell_type": "code",
   "execution_count": null,
   "metadata": {},
   "outputs": [],
   "source": [
    "neigh = KNeighborsClassifier(n_neighbors=3, metric = 'euclidean')\n",
    "neigh.fit(X_train, y_train.ravel())\n",
    "y_pred = neigh.predict(X_test)"
   ]
  },
  {
   "cell_type": "code",
   "execution_count": null,
   "metadata": {},
   "outputs": [],
   "source": [
    "print(\"R^2: {}\".format(neigh.score(X_test, y_test)))\n",
    "rmse = np.sqrt(mean_squared_error(y_test, y_pred))\n",
    "print(\"Root Mean Squared Error: {}\".format(rmse))\n",
    "print(\"Accuracy: {}\".format(accuracy_score(y_test, y_pred)))"
   ]
  },
  {
   "cell_type": "code",
   "execution_count": null,
   "metadata": {},
   "outputs": [],
   "source": [
    "valores = estrato_intersectado.loc[estrato_intersectado['ESTRATO'].isnull(),['latitud', 'longitud']].values"
   ]
  },
  {
   "cell_type": "code",
   "execution_count": null,
   "metadata": {},
   "outputs": [],
   "source": [
    "estrato_intersectado.loc[estrato_intersectado['ESTRATO'].isnull(),'ESTRATO'] = neigh.predict(valores)"
   ]
  },
  {
   "cell_type": "code",
   "execution_count": null,
   "metadata": {},
   "outputs": [],
   "source": [
    "estrato_intersectado.groupby(['ESTRATO'], as_index=False).agg(**{'Cantidad': pd.NamedAgg('latitud','count')})"
   ]
  },
  {
   "cell_type": "code",
   "execution_count": null,
   "metadata": {},
   "outputs": [],
   "source": [
    "a = estrato_intersectado['estrato'] - estrato_intersectado['ESTRATO']\n",
    "pd.DataFrame(a, columns=['Dif Estrato']).reset_index(drop=False).rename(columns={'index':'Cantidad'}).groupby('Dif Estrato', as_index=False).count()"
   ]
  },
  {
   "cell_type": "code",
   "execution_count": null,
   "metadata": {},
   "outputs": [],
   "source": []
  }
 ]
}