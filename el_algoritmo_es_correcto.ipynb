{
 "metadata": {
  "language_info": {
   "codemirror_mode": {
    "name": "ipython",
    "version": 3
   },
   "file_extension": ".py",
   "mimetype": "text/x-python",
   "name": "python",
   "nbconvert_exporter": "python",
   "pygments_lexer": "ipython3",
   "version": "3.7.9-final"
  },
  "orig_nbformat": 2,
  "kernelspec": {
   "name": "python3",
   "display_name": "Python 3.7.9 64-bit",
   "metadata": {
    "interpreter": {
     "hash": "b37351ac619a975f7c5909a6502929d3f44de011fa3b12a61ff626914f6002ee"
    }
   }
  }
 },
 "nbformat": 4,
 "nbformat_minor": 2,
 "cells": [
  {
   "cell_type": "code",
   "execution_count": null,
   "metadata": {},
   "outputs": [],
   "source": [
    "import pandas as pd\n",
    "import numpy as np\n",
    "import re\n",
    "import os"
   ]
  },
  {
   "cell_type": "code",
   "execution_count": null,
   "metadata": {},
   "outputs": [],
   "source": [
    "def base_no_horizontal(base):\n",
    "    base = base[\n",
    "        (base['porteria'].isna()) &\n",
    "        (base['conjuntocerrado']==0) &\n",
    "        (base['tipoinmueble']=='Casa') &\n",
    "        (base['ascensor'].isna()) &\n",
    "        ((base['gimmasio'].isna()) | (base['gimnasio']==0)) &\n",
    "        (base['piscina'].isna()) & \n",
    "        ((base['area']<1500) & (base['area']>35)) & \n",
    "        (base['piso']<5) &\n",
    "        ((base['habitaciones']<15) & (base['habitaciones']>0))\n",
    "        #Si encontramos gimnasios en la geocodificación comparar con los puntos que se quitaron\n",
    "    ]\n",
    "    return base"
   ]
  },
  {
   "cell_type": "code",
   "execution_count": null,
   "metadata": {},
   "outputs": [],
   "source": [
    "carpeta_path = r'C:\\Users\\William\\Desktop\\el algoritmo es correcto'\n",
    "archivo_train = r'train_data.csv'\n",
    "path_train = os.path.join(carpeta_path, archivo_train)"
   ]
  },
  {
   "cell_type": "code",
   "execution_count": null,
   "metadata": {},
   "outputs": [],
   "source": [
    "path_train"
   ]
  },
  {
   "cell_type": "code",
   "execution_count": null,
   "metadata": {},
   "outputs": [],
   "source": [
    "train = pd.read_csv(\n",
    "    path_train, \n",
    "    dtype={\n",
    "        \"tiempodeconstruido\": str,\n",
    "        \"vista\": str,\n",
    "        \"tipoinmueble\": str,\n",
    "        \"tiponegocio\": str,\n",
    "        'valorventa': 'int64',\n",
    "        # 'area': 'int64'\n",
    "    }\n",
    ")"
   ]
  },
  {
   "cell_type": "code",
   "execution_count": null,
   "metadata": {},
   "outputs": [],
   "source": [
    "train.info()"
   ]
  },
  {
   "cell_type": "code",
   "execution_count": null,
   "metadata": {},
   "outputs": [],
   "source": [
    "train.head()"
   ]
  },
  {
   "cell_type": "code",
   "execution_count": null,
   "metadata": {},
   "outputs": [],
   "source": [
    "for columna in train.columns:\n",
    "    if columna not in ['id', 'valoradministracion', 'valorventa', 'latitud', 'longitud']:\n",
    "        print(\"{}: \".format(columna), train[columna].unique())"
   ]
  },
  {
   "cell_type": "code",
   "execution_count": null,
   "metadata": {},
   "outputs": [],
   "source": [
    "prueba = train[\n",
    "    (train['porteria'].isna()) &\n",
    "    (train['conjuntocerrado']==0) &\n",
    "    (train['tipoinmueble']=='Casa') &\n",
    "    (train['ascensor'].isna()) &\n",
    "    ((train['gimnasio'].isna()) | (train['gimnasio']==0)) &\n",
    "    (train['piscina'].isna()) &\n",
    "    ((train['area']<1500) & (train['area']>35)) &\n",
    "    ((train['piso']<5) | (train['piso'].isna())) &\n",
    "    ((train['habitaciones']<15) & (train['habitaciones']>0))\n",
    "]#.groupby(['estrato','banos'], as_index=False).agg(**{'Cantidad': pd.NamedAgg('area', 'count')}).head(30)"
   ]
  },
  {
   "cell_type": "code",
   "execution_count": null,
   "metadata": {},
   "outputs": [],
   "source": [
    "prueba.shape"
   ]
  },
  {
   "cell_type": "code",
   "execution_count": null,
   "metadata": {},
   "outputs": [],
   "source": [
    "#Columnas a categóricas\n",
    "columnas_categoricas = ['piso', 'tiempodeconstruido', 'vigilancia', 'vista', 'zonalavanderia']\n",
    "for columna in columnas_categoricas:\n",
    "    prueba[columna] = np.where(\n",
    "        prueba[columna].notna(), prueba[columna], 'No define'\n",
    "    ).astype(str)\n"
   ]
  },
  {
   "cell_type": "code",
   "execution_count": null,
   "metadata": {},
   "outputs": [],
   "source": [
    "# columnas que no serán usadas\n",
    "columnas_no_usar = ['ascensor', 'tipoinmueble', 'porteria', 'conjuntocerrado', 'gimnasio', 'piscina', 'valoradministracion','tiponegocio']\n",
    "prueba = prueba.drop(columns = columnas_no_usar)"
   ]
  },
  {
   "cell_type": "code",
   "execution_count": null,
   "metadata": {},
   "outputs": [],
   "source": [
    "prueba['banos'] = np.where(\n",
    "    prueba['banos']==0,\n",
    "    1,\n",
    "    np.where(\n",
    "        prueba['banos']>5,\n",
    "        5,\n",
    "        np.where(\n",
    "            prueba['banos'].isna(),\n",
    "            1,\n",
    "            prueba['banos']\n",
    "        )\n",
    "    )\n",
    ")"
   ]
  },
  {
   "cell_type": "code",
   "execution_count": null,
   "metadata": {},
   "outputs": [],
   "source": [
    "prueba['garajes'] = np.where(\n",
    "    prueba['garajes']>4,\n",
    "    5,\n",
    "    np.where(\n",
    "        prueba['garajes']<=4,\n",
    "        prueba['garajes'],\n",
    "        'No define'\n",
    "    )\n",
    ").astype(str)"
   ]
  },
  {
   "cell_type": "code",
   "execution_count": null,
   "metadata": {},
   "outputs": [],
   "source": [
    "prueba['deposito'] = np.where(\n",
    "    prueba['deposito']==0,\n",
    "    'No',\n",
    "    np.where(\n",
    "        prueba['deposito']==1,\n",
    "        'Si',\n",
    "        'No define'\n",
    "    )\n",
    ")"
   ]
  },
  {
   "cell_type": "code",
   "execution_count": null,
   "metadata": {},
   "outputs": [],
   "source": [
    "prueba['piso'].unique()"
   ]
  },
  {
   "cell_type": "code",
   "execution_count": null,
   "metadata": {},
   "outputs": [],
   "source": [
    "prueba['vista'] = np.where(\n",
    "    prueba['vista'].notna(),\n",
    "    prueba['vista'],\n",
    "    'No defina'\n",
    ")"
   ]
  },
  {
   "cell_type": "code",
   "execution_count": null,
   "metadata": {},
   "outputs": [],
   "source": [
    "prueba['zonalavanderia'] = np.where(\n",
    "    prueba['deposito'].isna(),\n",
    "    'No define',\n",
    "    1\n",
    ").astype(str)"
   ]
  },
  {
   "cell_type": "code",
   "execution_count": null,
   "metadata": {},
   "outputs": [],
   "source": [
    "columnas_valor0 = [\n",
    "    'balcon', 'banoservicio', 'cuartoservicio', 'estudio', 'halldealcobas', \n",
    "    'remodelado', 'parqueaderovisitantes', 'saloncomunal','terraza']\n",
    "prueba[columnas_valor0] = prueba[columnas_valor0].fillna(0)"
   ]
  },
  {
   "cell_type": "code",
   "execution_count": null,
   "metadata": {},
   "outputs": [],
   "source": [
    "#PENDIENTE GARAJE\n",
    "# Piso y tiempo de construido, vigilancia, vista, zonalavanderia a categorica con no define\n",
    "# No sirve, piscina, gimnasio, tiponegocio\n",
    "prueba.info()"
   ]
  },
  {
   "cell_type": "code",
   "execution_count": null,
   "metadata": {},
   "outputs": [],
   "source": [
    "prueba[['habitaciones', 'banos', 'estrato']].plot(kind = 'box')"
   ]
  },
  {
   "cell_type": "code",
   "execution_count": null,
   "metadata": {},
   "outputs": [],
   "source": [
    "prueba['y'] = prueba['valorventa']/prueba['area']"
   ]
  },
  {
   "cell_type": "code",
   "execution_count": null,
   "metadata": {},
   "outputs": [],
   "source": [
    "#Quitar super estigmas de valores muy altos por metro cuadrado\n",
    "prueba = prueba[prueba['y']<prueba['y'].quantile(0.99).astype('int64')]"
   ]
  },
  {
   "cell_type": "code",
   "execution_count": null,
   "metadata": {},
   "outputs": [],
   "source": [
    "prueba[[\"y\",\"estrato\", \"habitaciones\"]].boxplot(by=[\"estrato\", \"habitaciones\"], figsize=(10,10))"
   ]
  },
  {
   "cell_type": "code",
   "execution_count": null,
   "metadata": {},
   "outputs": [],
   "source": [
    "import geopandas"
   ]
  },
  {
   "cell_type": "code",
   "execution_count": null,
   "metadata": {},
   "outputs": [],
   "source": [
    "localidades_path = r'C:\\Users\\William\\Desktop\\el algoritmo es correcto\\Datos abiertos bogota\\localidades.json'\n",
    "localidades = geopandas.read_file(localidades_path, crs={'init':'epsg:4686'})"
   ]
  },
  {
   "cell_type": "code",
   "execution_count": null,
   "metadata": {},
   "outputs": [],
   "source": [
    "# localidades_geo = localidades.plot(figsize=(10, 10), column='LocCodigo', zorder=1)"
   ]
  },
  {
   "cell_type": "code",
   "execution_count": null,
   "metadata": {},
   "outputs": [],
   "source": [
    "estratificacion_path = r'C:\\Users\\William\\Desktop\\el algoritmo es correcto\\Datos abiertos bogota\\manzana_estratificacion.json'\n",
    "estratificacion = geopandas.read_file(estratificacion_path, crs={'init':'epsg:4686'})"
   ]
  },
  {
   "cell_type": "code",
   "execution_count": null,
   "metadata": {},
   "outputs": [],
   "source": [
    "estratificacion = estratificacion[['ESTRATO', 'geometry']]"
   ]
  },
  {
   "cell_type": "code",
   "execution_count": null,
   "metadata": {},
   "outputs": [],
   "source": [
    "casas = geopandas.GeoDataFrame(\n",
    "    prueba, geometry=geopandas.points_from_xy(prueba.longitud, prueba.latitud), crs={'init': 'epsg:4326'})"
   ]
  },
  {
   "cell_type": "code",
   "execution_count": null,
   "metadata": {},
   "outputs": [],
   "source": [
    "# localidades_geo = localidades.plot(color='white', edgecolor='black', figsize=(10, 10), zorder=1)\n",
    "# estratificacion_geo = estratificacion.plot(ax=localidades_geo, figsize=(10, 10), zorder=2, cmap='OrRd', legend=True)\n",
    "# casas_geo = casas.plot(ax=localidades_geo, figsize=(10, 10), markersize=.1, zorder=3, marker='x')"
   ]
  },
  {
   "cell_type": "code",
   "execution_count": null,
   "metadata": {},
   "outputs": [],
   "source": [
    "estrato_intersectado = geopandas.sjoin(left_df=casas, right_df=estratificacion, how='left', op='intersects')"
   ]
  },
  {
   "cell_type": "code",
   "execution_count": null,
   "metadata": {},
   "outputs": [],
   "source": [
    "estrato_intersectado['ESTRATO'] = np.where(\n",
    "    estrato_intersectado['ESTRATO'].isna() | estrato_intersectado['ESTRATO']==0,\n",
    "    np.NaN,\n",
    "    estrato_intersectado['ESTRATO']\n",
    ")"
   ]
  },
  {
   "cell_type": "code",
   "execution_count": null,
   "metadata": {},
   "outputs": [],
   "source": [
    "import numpy as np\n",
    "import pandas as pd\n",
    "from sklearn.neighbors import KNeighborsClassifier\n",
    "from sklearn.model_selection import train_test_split\n",
    "from sklearn.metrics import mean_squared_error, accuracy_score"
   ]
  },
  {
   "cell_type": "code",
   "execution_count": null,
   "metadata": {},
   "outputs": [],
   "source": [
    "train = estrato_intersectado.loc[estrato_intersectado['ESTRATO'].notna(),['ESTRATO', 'latitud', 'longitud']]"
   ]
  },
  {
   "cell_type": "code",
   "execution_count": null,
   "metadata": {},
   "outputs": [],
   "source": [
    "X = train[['latitud', 'longitud']].values\n",
    "y = train[['ESTRATO']].values\n",
    "# Create training and test sets\n",
    "X_train, X_test, y_train, y_test = train_test_split(X, y, test_size = 0.3, random_state=42)"
   ]
  },
  {
   "cell_type": "code",
   "execution_count": null,
   "metadata": {},
   "outputs": [],
   "source": [
    "print(X_train.shape)\n",
    "print(X_test.shape)\n",
    "print(y_train.shape)\n",
    "print(y_test.shape)"
   ]
  },
  {
   "cell_type": "code",
   "execution_count": null,
   "metadata": {},
   "outputs": [],
   "source": [
    "# Se crea el modelo con la base de entrenamiento\n",
    "resultados_train = {}\n",
    "resultados_test = {}\n",
    "for i in range(1,12):\n",
    "    neigh = KNeighborsClassifier(n_neighbors=i, metric = 'euclidean')\n",
    "    neigh.fit(X_train, y_train.ravel())\n",
    "    resultados_train[i] = neigh.score(X_train, y_train)\n",
    "    resultados_test[i] = neigh.score(X_test, y_test)"
   ]
  },
  {
   "cell_type": "code",
   "execution_count": null,
   "metadata": {},
   "outputs": [],
   "source": [
    "import matplotlib.pyplot as plt\n",
    "fig, ax = plt.subplots()\n",
    "ax.plot(list(resultados_train.keys()), list(resultados_train.values()), label='train')\n",
    "ax.plot(list(resultados_test.keys()), list(resultados_test.values()), label='test')\n",
    "ax.legend()\n",
    "plt.show()"
   ]
  },
  {
   "cell_type": "code",
   "execution_count": null,
   "metadata": {},
   "outputs": [],
   "source": [
    "neigh = KNeighborsClassifier(n_neighbors=3, metric = 'euclidean')\n",
    "neigh.fit(X_train, y_train.ravel())\n",
    "y_pred = neigh.predict(X_test)"
   ]
  },
  {
   "cell_type": "code",
   "execution_count": null,
   "metadata": {},
   "outputs": [],
   "source": [
    "print(\"R^2: {}\".format(neigh.score(X_test, y_test)))\n",
    "rmse = np.sqrt(mean_squared_error(y_test, y_pred))\n",
    "print(\"Root Mean Squared Error: {}\".format(rmse))\n",
    "print(\"Accuracy: {}\".format(accuracy_score(y_test, y_pred)))"
   ]
  },
  {
   "cell_type": "code",
   "execution_count": null,
   "metadata": {},
   "outputs": [],
   "source": [
    "valores = estrato_intersectado.loc[estrato_intersectado['ESTRATO'].isnull(),['latitud', 'longitud']].values"
   ]
  },
  {
   "cell_type": "code",
   "execution_count": null,
   "metadata": {},
   "outputs": [],
   "source": [
    "estrato_intersectado.loc[estrato_intersectado['ESTRATO'].isnull(),'ESTRATO'] = neigh.predict(valores)"
   ]
  },
  {
   "cell_type": "code",
   "execution_count": null,
   "metadata": {},
   "outputs": [],
   "source": [
    "estrato_intersectado.groupby(['ESTRATO'], as_index=False, dropna=False).agg(**{'Cantidad': pd.NamedAgg('latitud','count')})"
   ]
  },
  {
   "cell_type": "code",
   "execution_count": null,
   "metadata": {},
   "outputs": [],
   "source": [
    "a = estrato_intersectado['estrato'] - estrato_intersectado['ESTRATO']\n",
    "pd.DataFrame(a, columns=['Dif Estrato']).reset_index(drop=False).rename(columns={'index':'Cantidad'}).groupby('Dif Estrato', as_index=False, dropna=False).count()"
   ]
  },
  {
   "cell_type": "code",
   "execution_count": null,
   "metadata": {},
   "outputs": [],
   "source": [
    "estrato_intersectado.columns"
   ]
  },
  {
   "cell_type": "code",
   "execution_count": null,
   "metadata": {},
   "outputs": [],
   "source": [
    "avaluo_path = r'C:\\Users\\William\\Desktop\\el algoritmo es correcto\\Datos abiertos bogota\\avaluo'\n",
    "avaluo = geopandas.read_file(avaluo_path, crs={'init':'epsg:4686'})"
   ]
  },
  {
   "cell_type": "code",
   "execution_count": null,
   "metadata": {},
   "outputs": [],
   "source": [
    "avaluo.columns"
   ]
  },
  {
   "cell_type": "code",
   "execution_count": null,
   "metadata": {},
   "outputs": [],
   "source": [
    "avaluo.shape"
   ]
  },
  {
   "cell_type": "code",
   "execution_count": null,
   "metadata": {},
   "outputs": [],
   "source": [
    "avaluo[['AVALUO_CAT', 'AVALUO_COM']].boxplot(figsize=(10,10))"
   ]
  },
  {
   "cell_type": "code",
   "execution_count": null,
   "metadata": {},
   "outputs": [],
   "source": [
    "pd.concat(\n",
    "    [avaluo[['AVALUO_CAT', 'AVALUO_COM']].quantile(np.linspace(0,1,21)).astype('int64'),\n",
    "    estrato_intersectado[['y']].quantile(np.linspace(0,1,21)).astype('int64')],\n",
    "    axis=1)"
   ]
  },
  {
   "cell_type": "code",
   "execution_count": null,
   "metadata": {},
   "outputs": [],
   "source": [
    "avaluo = avaluo[\n",
    "    (avaluo['AVALUO_CAT']<avaluo['AVALUO_CAT'].quantile(0.99)) &\n",
    "    (avaluo['AVALUO_COM']<avaluo['AVALUO_COM'].quantile(0.99))\n",
    "]"
   ]
  },
  {
   "cell_type": "code",
   "execution_count": null,
   "metadata": {},
   "outputs": [],
   "source": [
    "avaluo_intersectado = geopandas.sjoin(left_df=estrato_intersectado.drop(columns='index_right'), right_df=avaluo, how='left', op='intersects')"
   ]
  },
  {
   "cell_type": "code",
   "execution_count": null,
   "metadata": {},
   "outputs": [],
   "source": [
    "avaluo_intersectado[avaluo_intersectado['AVALUO_COM'].notna()][['y', 'AVALUO_CAT', 'AVALUO_COM']].astype('int64')"
   ]
  },
  {
   "cell_type": "code",
   "execution_count": null,
   "metadata": {},
   "outputs": [],
   "source": [
    "train = avaluo_intersectado.loc[avaluo_intersectado['AVALUO_COM'].notna()]"
   ]
  },
  {
   "cell_type": "code",
   "execution_count": null,
   "metadata": {},
   "outputs": [],
   "source": [
    "train.columns"
   ]
  },
  {
   "cell_type": "code",
   "execution_count": null,
   "metadata": {},
   "outputs": [],
   "source": [
    "import numpy as np\n",
    "import pandas as pd\n",
    "from sklearn.neighbors import KNeighborsRegressor\n",
    "from sklearn.model_selection import train_test_split\n",
    "from sklearn.metrics import mean_squared_error, accuracy_score\n",
    "from sklearn.model_selection import GridSearchCV\n",
    "\n",
    "train = avaluo_intersectado.loc[avaluo_intersectado['AVALUO_COM'].notna()]\n",
    "X = train[['latitud', 'longitud']].values\n",
    "y = train[['AVALUO_COM']].values\n",
    "# Create training and test sets\n",
    "X_train, X_test, y_train, y_test = train_test_split(X, y, test_size = 0.3, random_state=42)\n",
    "print(X_train.shape)\n",
    "print(X_test.shape)\n",
    "print(y_train.shape)\n",
    "print(y_test.shape)\n",
    "# Se crea el modelo con la base de entrenamiento\n",
    "# parameters = {\n",
    "#   'n_neighbors':np.array([4,5,6]),\n",
    "#   'weights':['distance'],\n",
    "#   'algorithm': ['brute'],\n",
    "#   'leaf_size': [1],\n",
    "#   'p': np.array([2]),\n",
    "#   'metric':['chebyshev']\n",
    "#               }\n",
    "# #Cambiar a GridSearch \n",
    "# knn = KNeighborsRegressor()\n",
    "# cvknn = GridSearchCV(\n",
    "#   knn, \n",
    "#   parameters, \n",
    "#   # scoring=make_scorer(mean_absolute_percentage_error), \n",
    "#   cv = 2, \n",
    "#   n_jobs=-1\n",
    "# )"
   ]
  },
  {
   "cell_type": "code",
   "execution_count": null,
   "metadata": {},
   "outputs": [],
   "source": [
    "cvknn.fit(X_train, y_train)"
   ]
  },
  {
   "cell_type": "code",
   "execution_count": null,
   "metadata": {},
   "outputs": [],
   "source": [
    "cvknn.best_params_"
   ]
  },
  {
   "cell_type": "code",
   "execution_count": null,
   "metadata": {},
   "outputs": [],
   "source": [
    "from sklearn.metrics import mean_absolute_error\n",
    "neigh = KNeighborsRegressor(\n",
    "    algorithm='brute',\n",
    "    n_neighbors=5, \n",
    "    leaf_size=1,\n",
    "    p=2,\n",
    "    weights='distance',\n",
    "    metric='chebyshev',\n",
    "    n_jobs=-1)\n",
    "neigh.fit(X_train, y_train.ravel())\n",
    "y_pred = neigh.predict(X_test)\n",
    "print(\"R^2: {}\".format(neigh.score(X_test, y_test)))\n",
    "rmse = np.sqrt(mean_squared_error(y_test, y_pred))\n",
    "print(\"Root Mean Squared Error: {}\".format(rmse))"
   ]
  },
  {
   "cell_type": "code",
   "execution_count": null,
   "metadata": {},
   "outputs": [],
   "source": [
    "valores = avaluo_intersectado.loc[avaluo_intersectado['AVALUO_COM'].isnull(),['latitud', 'longitud']].values"
   ]
  },
  {
   "cell_type": "code",
   "execution_count": null,
   "metadata": {},
   "outputs": [],
   "source": [
    "avaluo_intersectado.loc[avaluo_intersectado['AVALUO_COM'].isnull(),'AVALUO_COM'] = neigh.predict(valores)"
   ]
  },
  {
   "cell_type": "code",
   "execution_count": null,
   "metadata": {},
   "outputs": [],
   "source": [
    "import numpy as np\n",
    "import pandas as pd\n",
    "from sklearn.neighbors import KNeighborsRegressor\n",
    "from sklearn.model_selection import train_test_split\n",
    "from sklearn.metrics import mean_squared_error, accuracy_score\n",
    "from sklearn.model_selection import GridSearchCV\n",
    "\n",
    "train = avaluo_intersectado.loc[avaluo_intersectado['AVALUO_CAT'].notna(),['AVALUO_CAT', 'latitud', 'longitud']]\n",
    "X = train[['latitud', 'longitud']].values\n",
    "y = train[['AVALUO_CAT']].values\n",
    "# Create training and test sets\n",
    "X_train, X_test, y_train, y_test = train_test_split(X, y, test_size = 0.3, random_state=42)\n",
    "print(X_train.shape)\n",
    "print(X_test.shape)\n",
    "print(y_train.shape)\n",
    "print(y_test.shape)\n",
    "# Se crea el modelo con la base de entrenamiento"
   ]
  },
  {
   "cell_type": "code",
   "execution_count": null,
   "metadata": {},
   "outputs": [],
   "source": [
    "from sklearn.metrics import mean_absolute_error\n",
    "neigh = KNeighborsRegressor(\n",
    "    algorithm='brute',\n",
    "    n_neighbors=5, \n",
    "    leaf_size=1,\n",
    "    p=2,\n",
    "    weights='distance',\n",
    "    metric='chebyshev',\n",
    "    n_jobs=-1)\n",
    "neigh.fit(X_train, y_train.ravel())\n",
    "y_pred = neigh.predict(X_test)\n",
    "print(\"R^2: {}\".format(neigh.score(X_test, y_test)))\n",
    "rmse = np.sqrt(mean_squared_error(y_test, y_pred))\n",
    "print(\"Root Mean Squared Error: {}\".format(rmse))"
   ]
  },
  {
   "cell_type": "code",
   "execution_count": null,
   "metadata": {},
   "outputs": [],
   "source": [
    "valores = avaluo_intersectado.loc[avaluo_intersectado['AVALUO_CAT'].isnull(),['latitud', 'longitud']].values"
   ]
  },
  {
   "cell_type": "code",
   "execution_count": null,
   "metadata": {},
   "outputs": [],
   "source": [
    "avaluo_intersectado.loc[avaluo_intersectado['AVALUO_CAT'].isnull(),'AVALUO_CAT'] = neigh.predict(valores)"
   ]
  },
  {
   "cell_type": "code",
   "execution_count": null,
   "metadata": {},
   "outputs": [],
   "source": [
    "avaluo_intersectado.columns"
   ]
  },
  {
   "cell_type": "code",
   "execution_count": null,
   "metadata": {},
   "outputs": [],
   "source": [
    "columns_fill=['CP_TERR_AR', 'GRUPOP_TER']\n",
    "avaluo_intersectado[columns_fill] = avaluo_intersectado[columns_fill].fillna('No define')"
   ]
  },
  {
   "cell_type": "code",
   "execution_count": null,
   "metadata": {},
   "outputs": [],
   "source": [
    "valorref_path = r'C:\\Users\\William\\Desktop\\el algoritmo es correcto\\Datos abiertos bogota\\valor_ref'\n",
    "valorref = geopandas.read_file(valorref_path, crs={'init':'epsg:4686'})"
   ]
  },
  {
   "cell_type": "code",
   "execution_count": null,
   "metadata": {},
   "outputs": [],
   "source": [
    "valorref = valorref[valorref['V_REF']<valorref['V_REF'].quantile(0.99)]"
   ]
  },
  {
   "cell_type": "code",
   "execution_count": null,
   "metadata": {},
   "outputs": [],
   "source": [
    "valorref.sample(10000).plot(column='V_REF', figsize=(10,10), legend=True)"
   ]
  },
  {
   "cell_type": "code",
   "execution_count": null,
   "metadata": {},
   "outputs": [],
   "source": [
    "valorref_intersectado = geopandas.sjoin(left_df=avaluo_intersectado.drop(columns='index_right'), right_df=valorref, how='left', op='intersects')"
   ]
  },
  {
   "cell_type": "code",
   "execution_count": null,
   "metadata": {},
   "outputs": [],
   "source": [
    "valorref_intersectado[valorref_intersectado['id']==1204371][['id', 'V_REF', 'ANO']]#.drop_duplicates('id', keep='last')"
   ]
  },
  {
   "cell_type": "code",
   "execution_count": null,
   "metadata": {},
   "outputs": [],
   "source": [
    "avaluo_intersectado.columns"
   ]
  },
  {
   "cell_type": "code",
   "execution_count": null,
   "metadata": {},
   "outputs": [],
   "source": [
    "sin_columnas = [\n",
    "    'id', 'estrato', 'geometry', 'index_right', 'latitud', 'longitud', 'OBJECTID', 'MANZANA_ID',\n",
    "    'OBSERVACIO', 'GLOBALID', 'SHAPE_Leng', 'SHAPE_Area']\n",
    "datos = avaluo_intersectado.drop(columns=sin_columnas)"
   ]
  },
  {
   "cell_type": "code",
   "execution_count": null,
   "metadata": {},
   "outputs": [],
   "source": [
    "datos.columns"
   ]
  },
  {
   "cell_type": "code",
   "execution_count": null,
   "metadata": {},
   "outputs": [],
   "source": [
    "estrato_intersectado2.loc[estrato_intersectado2[\"habitaciones\"]<5,[\"y\",\"ESTRATO\", \"habitaciones\"]].boxplot(by=[\"ESTRATO\", \"habitaciones\"], figsize=(10,10))"
   ]
  },
  {
   "cell_type": "code",
   "execution_count": null,
   "metadata": {},
   "outputs": [],
   "source": [
    "avaluo_intersectado.columns"
   ]
  },
  {
   "cell_type": "code",
   "execution_count": null,
   "metadata": {},
   "outputs": [],
   "source": [
    "avaluo_intersectado.info()"
   ]
  },
  {
   "cell_type": "code",
   "execution_count": null,
   "metadata": {},
   "outputs": [],
   "source": [
    "columnas_eliminar_modelo = [\n",
    "    'estrato', 'index_right', 'latitud', 'longitud', \n",
    "    'geometry', 'OBJECTID', 'MANZANA_ID', 'OBSERVACIO', \n",
    "    'GLOBALID', 'SHAPE_Leng', 'SHAPE_Area']\n",
    "data1 = pd.get_dummies(avaluo_intersectado.drop(columns=columnas_eliminar_modelo), drop_first=True)"
   ]
  },
  {
   "cell_type": "code",
   "execution_count": null,
   "metadata": {},
   "outputs": [],
   "source": [
    "data1.info()"
   ]
  },
  {
   "cell_type": "code",
   "execution_count": null,
   "metadata": {},
   "outputs": [],
   "source": [
    "from sklearn.metrics import mean_absolute_percentage_error \n",
    "from sklearn.tree import DecisionTreeRegressor\n",
    "from sklearn.model_selection import train_test_split\n",
    "\n",
    "X = data1.drop(columns=['y']).values\n",
    "y = data1[['y']].values\n",
    "\n",
    "# Create training and test sets\n",
    "X_train, X_test, y_train, y_test = train_test_split(X, y, test_size = 0.3, random_state=42)"
   ]
  },
  {
   "cell_type": "code",
   "execution_count": null,
   "metadata": {},
   "outputs": [],
   "source": [
    "print(X_train.shape)\n",
    "print(X_test.shape)\n",
    "print(y_train.shape)\n",
    "print(y_test.shape)"
   ]
  },
  {
   "cell_type": "code",
   "execution_count": null,
   "metadata": {},
   "outputs": [],
   "source": [
    "mod1 = DecisionTreeRegressor(\n",
    "    criterion='friedman_mse', \n",
    "    splitter='best',\n",
    "    max_depth=70, #70\n",
    "    min_samples_split=2,\n",
    "    min_weight_fraction_leaf=0.0,\n",
    "    max_leaf_nodes=None,\n",
    "    max_features='auto', #None\n",
    "    min_impurity_decrease=0\n",
    ").fit(X_train, y_train)"
   ]
  },
  {
   "cell_type": "code",
   "execution_count": null,
   "metadata": {},
   "outputs": [],
   "source": [
    "mean_absolute_percentage_error(y_train, mod1.predict(X_train))"
   ]
  },
  {
   "cell_type": "code",
   "execution_count": null,
   "metadata": {},
   "outputs": [],
   "source": [
    "mean_absolute_percentage_error(y_test, mod1.predict(X_test))*100"
   ]
  },
  {
   "cell_type": "code",
   "execution_count": null,
   "metadata": {},
   "outputs": [],
   "source": [
    "avaluocatastral_path = r'C:\\Users\\William\\Desktop\\el algoritmo es correcto\\Datos abiertos bogota\\avaluo'\n",
    "avaluocatastral = geopandas.read_file(avaluocatastral_path, crs={'init':'epsg:4686'})"
   ]
  },
  {
   "cell_type": "code",
   "execution_count": null,
   "metadata": {},
   "outputs": [],
   "source": [
    "avaluocatastral"
   ]
  },
  {
   "cell_type": "code",
   "execution_count": null,
   "metadata": {},
   "outputs": [],
   "source": [
    "estrato_intersectado = geopandas.sjoin(left_df=casas, right_df=estratificacion, how='left', op='intersects')"
   ]
  },
  {
   "cell_type": "code",
   "execution_count": null,
   "metadata": {},
   "outputs": [],
   "source": [
    "estrato_intersectado = estrato_intersectado.drop(columns=['index_right', 'CODIGO_MAN', 'CODIGO_ZON', 'CODIGO_CRI', 'NORMATIVA',\n",
    "       'ACTO_ADMIN', 'NUMERO_ACT', 'FECHA_ACTO', 'ESCALA_CAP', 'FECHA_CAPT',\n",
    "       'RESPONSABL', 'SHAPE_Leng', 'SHAPE_Area'])"
   ]
  },
  {
   "cell_type": "code",
   "execution_count": null,
   "metadata": {},
   "outputs": [],
   "source": [
    "avaluo_intersectado = geopandas.sjoin(left_df=estrato_intersectado, right_df=avaluocatastral, how='left', op='intersects')"
   ]
  },
  {
   "cell_type": "code",
   "execution_count": null,
   "metadata": {},
   "outputs": [],
   "source": [
    "avaluo_intersectado[\n",
    "    (avaluo_intersectado['piso'].isin([1,2,3,4]))].groupby(['CP_TERR_AR', 'piso', 'GRUPOP_TER'], as_index=False, dropna=False).ESTRATO.count().ESTRATO.sum()"
   ]
  },
  {
   "cell_type": "code",
   "execution_count": null,
   "metadata": {},
   "outputs": [],
   "source": [
    "# prueba.groupby(['habitaciones'], as_index=False, dropna=False).agg(**{'Cantidad': pd.NamedAgg('estrato', 'count')})\n",
    "prueba.info()"
   ]
  },
  {
   "cell_type": "code",
   "execution_count": null,
   "metadata": {},
   "outputs": [],
   "source": []
  }
 ]
}