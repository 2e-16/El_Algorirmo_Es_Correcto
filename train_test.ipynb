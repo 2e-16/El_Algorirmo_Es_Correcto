{
 "metadata": {
  "language_info": {
   "codemirror_mode": {
    "name": "ipython",
    "version": 3
   },
   "file_extension": ".py",
   "mimetype": "text/x-python",
   "name": "python",
   "nbconvert_exporter": "python",
   "pygments_lexer": "ipython3",
   "version": "3.7.9"
  },
  "orig_nbformat": 2,
  "kernelspec": {
   "name": "python379jvsc74a57bd0b37351ac619a975f7c5909a6502929d3f44de011fa3b12a61ff626914f6002ee",
   "display_name": "Python 3.7.9 64-bit"
  },
  "metadata": {
   "interpreter": {
    "hash": "b37351ac619a975f7c5909a6502929d3f44de011fa3b12a61ff626914f6002ee"
   }
  }
 },
 "nbformat": 4,
 "nbformat_minor": 2,
 "cells": [
  {
   "cell_type": "code",
   "execution_count": null,
   "metadata": {},
   "outputs": [],
   "source": [
    "import pandas as pd\n",
    "import numpy as np\n",
    "import re\n",
    "import os\n",
    "import seaborn as sns\n",
    "import matplotlib.pyplot as plt\n",
    "from sklearn.preprocessing import MinMaxScaler\n",
    "import geopandas\n",
    "from sklearn.neighbors import KNeighborsClassifier, KNeighborsRegressor\n",
    "from sklearn.tree import DecisionTreeRegressor\n",
    "from sklearn.ensemble import RandomForestRegressor\n",
    "from sklearn.model_selection import train_test_split\n",
    "from sklearn.metrics import mean_squared_error, accuracy_score, mean_absolute_error, mean_absolute_percentage_error\n",
    "import matplotlib.pyplot as plt\n",
    "from typing import Tuple, Dict, List\n",
    "import pandas as pd\n",
    "import rpy2.robjects as ro\n",
    "from rpy2.robjects.packages import importr\n",
    "from rpy2.robjects import pandas2ri\n",
    "from rpy2.robjects.conversion import localconverter\n",
    "import rpy2.robjects.packages as rpackages\n",
    "gamlss = rpackages.importr(\"gamlss\")\n",
    "gamlss_dist = rpackages.importr(\"gamlss.dist\")\n",
    "base = rpackages.importr(\"base\")\n",
    "import xgboost as xgb"
   ]
  },
  {
   "cell_type": "code",
   "execution_count": null,
   "metadata": {},
   "outputs": [],
   "source": [
    "carpeta_path = r'C:\\Users\\William\\Desktop\\el algoritmo es correcto'\n",
    "archivo_train = r'train_data.csv'\n",
    "path_train = os.path.join(carpeta_path, archivo_train)"
   ]
  },
  {
   "cell_type": "code",
   "execution_count": null,
   "metadata": {},
   "outputs": [],
   "source": [
    "train = pd.read_csv(\n",
    "    path_train, \n",
    "    dtype={\n",
    "        \"tiempodeconstruido\": str,\n",
    "        \"vista\": str,\n",
    "        \"tipoinmueble\": str,\n",
    "        \"tiponegocio\": str,\n",
    "        'valorventa': 'int64',\n",
    "    }\n",
    ")\n",
    "train['data'] = 'train'"
   ]
  },
  {
   "cell_type": "code",
   "execution_count": null,
   "metadata": {},
   "outputs": [],
   "source": [
    "carpeta_path = r'C:\\Users\\William\\Desktop\\el algoritmo es correcto'\n",
    "archivo_test = r'test_data.csv'\n",
    "path_test = os.path.join(carpeta_path, archivo_test)"
   ]
  },
  {
   "cell_type": "code",
   "execution_count": null,
   "metadata": {},
   "outputs": [],
   "source": [
    "test = pd.read_csv(\n",
    "    path_test, \n",
    "    dtype={\n",
    "        \"tiempodeconstruido\": str,\n",
    "        \"vista\": str,\n",
    "        \"tipoinmueble\": str,\n",
    "        \"tiponegocio\": str,\n",
    "        'valorventa': 'int64'\n",
    "    }\n",
    ")\n",
    "test['data'] = 'test'"
   ]
  },
  {
   "cell_type": "code",
   "execution_count": null,
   "metadata": {},
   "outputs": [],
   "source": [
    "prueba = pd.concat([train, test], ignore_index=True)"
   ]
  },
  {
   "cell_type": "code",
   "execution_count": null,
   "metadata": {},
   "outputs": [],
   "source": [
    "prueba = prueba[\n",
    "    (prueba['porteria'].isna()) &\n",
    "    (prueba['conjuntocerrado']==0) &\n",
    "    (prueba['tipoinmueble']=='Casa') &\n",
    "    (prueba['ascensor'].isna()) &\n",
    "    ((prueba['gimnasio'].isna()) | (prueba['gimnasio']==0)) &\n",
    "    (prueba['piscina'].isna()) &\n",
    "    ((prueba['area']<1500) & (prueba['area']>35)) &\n",
    "    ((prueba['piso']<5) | (prueba['piso'].isna())) &\n",
    "    ((prueba['habitaciones']<15) & (prueba['habitaciones']>0))\n",
    "]"
   ]
  },
  {
   "cell_type": "code",
   "execution_count": null,
   "metadata": {},
   "outputs": [],
   "source": [
    "columnas_no_usar = ['ascensor', 'tipoinmueble', 'porteria', 'conjuntocerrado', 'gimnasio', 'piscina', 'valoradministracion','tiponegocio']\n",
    "prueba = prueba.drop(columns = columnas_no_usar)"
   ]
  },
  {
   "cell_type": "code",
   "execution_count": null,
   "metadata": {},
   "outputs": [],
   "source": [
    "condlist = [\n",
    "    (prueba['banos']<=1) | (prueba['banos'].isna()), \n",
    "    (prueba['banos']==2), \n",
    "    (prueba['banos'].isin([3,4,5])), \n",
    "    (prueba['banos'].isin([6,7,8,9])),\n",
    "    (prueba['banos']>=10)]\n",
    "choicelist = ['1', '2', '3-5', '6-9', '10+']\n",
    "prueba['banos modificado'] = np.select(condlist=condlist, choicelist=choicelist)"
   ]
  },
  {
   "cell_type": "code",
   "execution_count": null,
   "metadata": {},
   "outputs": [],
   "source": [
    "condlist = [\n",
    "    (prueba['garajes'].isna()),\n",
    "    (prueba['garajes']<=1), \n",
    "    (prueba['garajes']>1) & (prueba['garajes']<=3), \n",
    "    (prueba['garajes']>3)]\n",
    "choicelist = ['N.N', '0-1', '2-3', '4+']\n",
    "prueba['garajes modificado'] = np.select(condlist=condlist, choicelist=choicelist)"
   ]
  },
  {
   "cell_type": "code",
   "execution_count": null,
   "metadata": {},
   "outputs": [],
   "source": [
    "condlist = [(prueba['piso'].isna()), (prueba['piso']>0)]\n",
    "choicelist = ['No define', prueba['piso'].astype(str)]\n",
    "prueba['piso modificado'] = np.select(condlist=condlist, choicelist=choicelist)"
   ]
  },
  {
   "cell_type": "code",
   "execution_count": null,
   "metadata": {},
   "outputs": [],
   "source": [
    "condlist = [(prueba['vista'].isna()), (prueba['vista'].notna())]\n",
    "choicelist = ['No define', prueba['vista']]\n",
    "prueba['vista modificado'] = np.select(condlist=condlist, choicelist=choicelist)"
   ]
  },
  {
   "cell_type": "code",
   "execution_count": null,
   "metadata": {},
   "outputs": [],
   "source": [
    "condlist = [(prueba['zonalavanderia'].isna()), (prueba['zonalavanderia'].notna())]\n",
    "choicelist = [0, 1]\n",
    "prueba['zonalavanderia modificado'] = np.select(condlist=condlist, choicelist=choicelist) #sale zonalavanderia del modelo"
   ]
  },
  {
   "cell_type": "code",
   "execution_count": null,
   "metadata": {},
   "outputs": [],
   "source": [
    "condlist = [(prueba['vigilancia'].isna()) | (prueba['vigilancia']==0), (prueba['vigilancia']==1)]\n",
    "choicelist = ['No define-0', prueba['vigilancia'].astype(str)]\n",
    "prueba['vigilancia modificado'] = np.select(condlist=condlist, choicelist=choicelist)"
   ]
  },
  {
   "cell_type": "code",
   "execution_count": null,
   "metadata": {},
   "outputs": [],
   "source": [
    "condlist = [(prueba['deposito'].isna()), (prueba['deposito'].notna())]\n",
    "choicelist = [0, prueba['deposito']]\n",
    "prueba['deposito modificado'] = np.select(condlist=condlist, choicelist=choicelist)"
   ]
  },
  {
   "cell_type": "code",
   "execution_count": null,
   "metadata": {},
   "outputs": [],
   "source": [
    "prueba['tiempodeconstruido modificado'] = np.where(\n",
    "    prueba['tiempodeconstruido'].isna(),\n",
    "    'No define',\n",
    "    prueba['tiempodeconstruido']\n",
    ")"
   ]
  },
  {
   "cell_type": "code",
   "execution_count": null,
   "metadata": {},
   "outputs": [],
   "source": [
    "columnas_valor0 = [\n",
    "    'balcon', 'banoservicio', 'cuartoservicio', 'estudio', 'halldealcobas', \n",
    "    'remodelado', 'parqueaderovisitantes', 'saloncomunal','terraza']\n",
    "prueba[columnas_valor0] = prueba[columnas_valor0].fillna(0)"
   ]
  },
  {
   "cell_type": "code",
   "execution_count": null,
   "metadata": {},
   "outputs": [],
   "source": [
    "prueba['y'] = (prueba['valorventa']/prueba['area'])"
   ]
  },
  {
   "cell_type": "code",
   "execution_count": null,
   "metadata": {},
   "outputs": [],
   "source": [
    "prueba = prueba[\n",
    "    (prueba['y']<prueba['y'].quantile(0.95).astype('int64')) &\n",
    "    (prueba['y']>prueba['y'].quantile(0.05).astype('int64'))]"
   ]
  },
  {
   "cell_type": "code",
   "execution_count": null,
   "metadata": {},
   "outputs": [],
   "source": [
    "print(min(prueba['y']))\n",
    "print(max(prueba['y']))"
   ]
  },
  {
   "source": [
    "##  Banos"
   ],
   "cell_type": "markdown",
   "metadata": {}
  },
  {
   "cell_type": "code",
   "execution_count": null,
   "metadata": {},
   "outputs": [],
   "source": [
    "sns.boxplot(y='y', x='banos modificado', data=prueba)\n",
    "plt.show()"
   ]
  },
  {
   "source": [
    "## Garaje"
   ],
   "cell_type": "markdown",
   "metadata": {}
  },
  {
   "cell_type": "code",
   "execution_count": null,
   "metadata": {},
   "outputs": [],
   "source": [
    "sns.boxplot(y='y', x='garajes modificado', data=prueba)\n",
    "plt.show()"
   ]
  },
  {
   "source": [
    "## Piso"
   ],
   "cell_type": "markdown",
   "metadata": {}
  },
  {
   "cell_type": "code",
   "execution_count": null,
   "metadata": {},
   "outputs": [],
   "source": [
    "sns.boxplot(y='y', x='piso modificado', data=prueba, order=['No define', '1.0', '2.0', '3.0', '4.0'])\n",
    "plt.show()"
   ]
  },
  {
   "source": [
    "## Vista"
   ],
   "cell_type": "markdown",
   "metadata": {}
  },
  {
   "cell_type": "code",
   "execution_count": null,
   "metadata": {},
   "outputs": [],
   "source": [
    "sns.violinplot(y='y', x='vista modificado', data=prueba)\n",
    "plt.show()"
   ]
  },
  {
   "cell_type": "code",
   "execution_count": null,
   "metadata": {},
   "outputs": [],
   "source": [
    "sns.violinplot(y='y', x='vista modificado', data=prueba)\n",
    "plt.show()"
   ]
  },
  {
   "source": [
    "## Zona de lavanderia"
   ],
   "cell_type": "markdown",
   "metadata": {}
  },
  {
   "cell_type": "code",
   "execution_count": null,
   "metadata": {},
   "outputs": [],
   "source": [
    "sns.violinplot(y='y', x='zonalavanderia modificado', data=prueba)\n",
    "plt.show()"
   ]
  },
  {
   "source": [
    "## Vigilancia"
   ],
   "cell_type": "markdown",
   "metadata": {}
  },
  {
   "cell_type": "code",
   "execution_count": null,
   "metadata": {},
   "outputs": [],
   "source": [
    "sns.boxplot(y='y', x='vigilancia modificado', data=prueba)\n",
    "plt.show()"
   ]
  },
  {
   "source": [
    "## Deposito"
   ],
   "cell_type": "markdown",
   "metadata": {}
  },
  {
   "cell_type": "code",
   "execution_count": null,
   "metadata": {},
   "outputs": [],
   "source": [
    "sns.boxplot(y='y', x='deposito modificado', data=prueba)\n",
    "plt.show()"
   ]
  },
  {
   "source": [
    "## Tiempo de construido"
   ],
   "cell_type": "markdown",
   "metadata": {}
  },
  {
   "cell_type": "code",
   "execution_count": null,
   "metadata": {},
   "outputs": [],
   "source": [
    "sns.boxplot(x='y', y='tiempodeconstruido modificado', data=prueba, orient=\"h\", \n",
    "    order=[\n",
    "        \"No define\", \"Remodelado\", \"Menos de 1 año\", \"1 a 8 años\", \"Entre 0 y 5 años\", \n",
    "        \"Entre 5 y 10 años\", \"9 a 15 años\", \"Entre 10 y 20 años\", \"Más de 20 años\", \n",
    "        \"16 a 30 años\", \"Más de 30 años\"])\n",
    "plt.show()"
   ]
  },
  {
   "cell_type": "code",
   "execution_count": null,
   "metadata": {},
   "outputs": [],
   "source": [
    "sns.boxplot(y='y', x='balcon', data=prueba)\n",
    "plt.show()"
   ]
  },
  {
   "cell_type": "code",
   "execution_count": null,
   "metadata": {},
   "outputs": [],
   "source": [
    "sns.boxplot(y='y', x='banoservicio', data=prueba)\n",
    "plt.show()"
   ]
  },
  {
   "cell_type": "code",
   "execution_count": null,
   "metadata": {},
   "outputs": [],
   "source": [
    "sns.boxplot(y='y', x='cuartoservicio', data=prueba)\n",
    "plt.show()"
   ]
  },
  {
   "cell_type": "code",
   "execution_count": null,
   "metadata": {},
   "outputs": [],
   "source": [
    "sns.boxplot(y='y', x='estudio', data=prueba)\n",
    "plt.show()"
   ]
  },
  {
   "cell_type": "code",
   "execution_count": null,
   "metadata": {},
   "outputs": [],
   "source": [
    "sns.violinplot(y='y', x='halldealcobas', data=prueba)\n",
    "plt.show()"
   ]
  },
  {
   "cell_type": "code",
   "execution_count": null,
   "metadata": {},
   "outputs": [],
   "source": [
    "sns.violinplot(y='y', x='remodelado', data=prueba)\n",
    "plt.show()"
   ]
  },
  {
   "cell_type": "code",
   "execution_count": null,
   "metadata": {},
   "outputs": [],
   "source": [
    "sns.violinplot(y='y', x='parqueaderovisitantes', data=prueba)\n",
    "plt.show()"
   ]
  },
  {
   "cell_type": "code",
   "execution_count": null,
   "metadata": {},
   "outputs": [],
   "source": [
    "sns.boxplot(y='y', x='saloncomunal', data=prueba)\n",
    "plt.show()"
   ]
  },
  {
   "cell_type": "code",
   "execution_count": null,
   "metadata": {},
   "outputs": [],
   "source": [
    "sns.boxplot(y='y', x='terraza', data=prueba)\n",
    "plt.show()"
   ]
  },
  {
   "cell_type": "code",
   "execution_count": null,
   "metadata": {},
   "outputs": [],
   "source": [
    "sns.pairplot(prueba[['y', \"habitaciones\", \"area\", \"valorventa\", \"garajes modificado\"]].sample(5000), hue='garajes modificado')\n",
    "plt.show()"
   ]
  },
  {
   "source": [
    "## Union de datos Abierto Bogotá"
   ],
   "cell_type": "markdown",
   "metadata": {}
  },
  {
   "cell_type": "code",
   "execution_count": null,
   "metadata": {},
   "outputs": [],
   "source": [
    "localidades_path = r'C:\\Users\\William\\Desktop\\el algoritmo es correcto\\Datos abiertos bogota\\localidades.json'\n",
    "localidades = geopandas.read_file(localidades_path, crs={'init':'epsg:4686'})"
   ]
  },
  {
   "cell_type": "code",
   "execution_count": null,
   "metadata": {},
   "outputs": [],
   "source": [
    "localidades = localidades[['LocNombre', 'geometry']]"
   ]
  },
  {
   "cell_type": "code",
   "execution_count": null,
   "metadata": {},
   "outputs": [],
   "source": [
    "estratificacion_path = r'C:\\Users\\William\\Desktop\\el algoritmo es correcto\\Datos abiertos bogota\\manzana_estratificacion.json'\n",
    "estratificacion = geopandas.read_file(estratificacion_path, crs={'init':'epsg:4686'})"
   ]
  },
  {
   "cell_type": "code",
   "execution_count": null,
   "metadata": {},
   "outputs": [],
   "source": [
    "estratificacion = estratificacion[['ESTRATO', 'geometry']]"
   ]
  },
  {
   "cell_type": "code",
   "execution_count": null,
   "metadata": {},
   "outputs": [],
   "source": [
    "casas = geopandas.GeoDataFrame(\n",
    "    prueba, geometry=geopandas.points_from_xy(prueba.longitud, prueba.latitud), crs={'init': 'epsg:4326'})"
   ]
  },
  {
   "cell_type": "code",
   "execution_count": null,
   "metadata": {},
   "outputs": [],
   "source": [
    "avaluo_path = r'C:\\Users\\William\\Desktop\\el algoritmo es correcto\\Datos abiertos bogota\\avaluo'\n",
    "avaluo = geopandas.read_file(avaluo_path, crs={'init':'epsg:4686'})"
   ]
  },
  {
   "cell_type": "code",
   "execution_count": null,
   "metadata": {},
   "outputs": [],
   "source": [
    "avaluo = avaluo[['CP_TERR_AR', 'GRUPOP_TER', 'AVALUO_COM', 'AVALUO_CAT', 'geometry']]"
   ]
  },
  {
   "cell_type": "code",
   "execution_count": null,
   "metadata": {},
   "outputs": [],
   "source": [
    "avaluo = avaluo[\n",
    "    (avaluo['AVALUO_CAT']<avaluo['AVALUO_CAT'].quantile(0.95)) &\n",
    "    (avaluo['AVALUO_CAT']>avaluo['AVALUO_CAT'].quantile(0.05)) &\n",
    "    (avaluo['AVALUO_COM']<avaluo['AVALUO_COM'].quantile(0.95)) &\n",
    "    (avaluo['AVALUO_COM']>avaluo['AVALUO_COM'].quantile(0.05))\n",
    "]"
   ]
  },
  {
   "cell_type": "code",
   "execution_count": null,
   "metadata": {},
   "outputs": [],
   "source": [
    "pd.concat(\n",
    "    [avaluo[['AVALUO_CAT', 'AVALUO_COM']].quantile(np.linspace(0,1,21)).astype('int64'),\n",
    "    casas[['y']].quantile(np.linspace(0,1,21)).astype('int64')],\n",
    "    axis=1).boxplot()"
   ]
  },
  {
   "cell_type": "code",
   "execution_count": null,
   "metadata": {},
   "outputs": [],
   "source": [
    "pd.concat(\n",
    "    [(avaluo['AVALUO_CAT'] + avaluo['AVALUO_COM'] + 650000).quantile(np.linspace(0,1,21)).astype('int64'),\n",
    "    casas[['y']].quantile(np.linspace(0,1,21)).astype('int64')],\n",
    "    axis=1).boxplot()"
   ]
  },
  {
   "cell_type": "code",
   "execution_count": null,
   "metadata": {},
   "outputs": [],
   "source": [
    "interseccion1 = geopandas.sjoin(left_df=casas, right_df=estratificacion, how='left', op='intersects').drop(columns=['index_right'])"
   ]
  },
  {
   "cell_type": "code",
   "execution_count": null,
   "metadata": {},
   "outputs": [],
   "source": [
    "sns.boxplot(y='y', x='ESTRATO', data=interseccion1[interseccion1['ESTRATO'].notna()])\n",
    "plt.show()"
   ]
  },
  {
   "cell_type": "code",
   "execution_count": null,
   "metadata": {},
   "outputs": [],
   "source": [
    "interseccion2 = geopandas.sjoin(left_df=interseccion1, right_df=avaluo, how='left', op='intersects').drop(columns=['index_right'])"
   ]
  },
  {
   "cell_type": "code",
   "execution_count": null,
   "metadata": {},
   "outputs": [],
   "source": [
    "sns.boxplot(y='y', x='CP_TERR_AR', data=interseccion2[['y','CP_TERR_AR']].fillna('No define'))\n",
    "plt.show()"
   ]
  },
  {
   "cell_type": "code",
   "execution_count": null,
   "metadata": {},
   "outputs": [],
   "source": [
    "sns.boxplot(x='y', y='GRUPOP_TER', data=interseccion2[['y','GRUPOP_TER']].fillna('No define'), orient='h')\n",
    "plt.show()"
   ]
  },
  {
   "cell_type": "code",
   "execution_count": null,
   "metadata": {},
   "outputs": [],
   "source": [
    "interseccion3 = geopandas.sjoin(left_df=interseccion2, right_df=localidades, how='left', op='intersects').drop(columns=['index_right'])"
   ]
  },
  {
   "cell_type": "code",
   "execution_count": null,
   "metadata": {},
   "outputs": [],
   "source": [
    "sns.boxplot(x='y', y='LocNombre', data=interseccion3.dropna())\n",
    "plt.show()"
   ]
  },
  {
   "cell_type": "code",
   "execution_count": null,
   "metadata": {},
   "outputs": [],
   "source": [
    "troncales_path = r'C:\\Users\\William\\Desktop\\el algoritmo es correcto\\Datos abiertos bogota\\transmilenio'\n",
    "troncales = geopandas.read_file(troncales_path, crs={'init':'epsg:4686'})"
   ]
  },
  {
   "cell_type": "code",
   "execution_count": null,
   "metadata": {},
   "outputs": [],
   "source": [
    "colegios_path = r'C:\\Users\\William\\Desktop\\el algoritmo es correcto\\Datos abiertos bogota\\colegios.csv'\n",
    "colegios = pd.read_csv(colegios_path, encoding='latin1', sep=';')\n",
    "colegios.X = colegios.X.str.replace(',','.').astype(float)"
   ]
  },
  {
   "cell_type": "code",
   "execution_count": null,
   "metadata": {},
   "outputs": [],
   "source": [
    "colegios = geopandas.GeoDataFrame(\n",
    "    colegios, geometry=geopandas.points_from_xy(colegios.X, colegios.Y), crs={'init': 'epsg:4326'})"
   ]
  },
  {
   "cell_type": "code",
   "execution_count": null,
   "metadata": {},
   "outputs": [],
   "source": [
    "colegios['geometry'] = colegios.buffer(0.01)"
   ]
  },
  {
   "cell_type": "code",
   "execution_count": null,
   "metadata": {},
   "outputs": [],
   "source": [
    "columna_colegios = ['COLEGIO ELISA BORRERO DE PASTRANA', 'CENTRO LESTONNAC - COMPAÑIA DE MARIA']\n",
    "colegios_sub = colegios[colegios.NOMBRE_ESTABLECIMIENTO_EDUCATIVO.isin(columna_colegios)]"
   ]
  },
  {
   "cell_type": "code",
   "execution_count": null,
   "metadata": {},
   "outputs": [],
   "source": [
    "bases1 = localidades.plot(color='white', edgecolor='black', figsize=(10, 10), zorder=1)\n",
    "bases2 = troncales.plot(ax=bases1, figsize=(10, 10), zorder=2, color='blue', markersize=.1)\n",
    "bases3 = colegios_sub.head().buffer(0.01).plot(ax=bases2, figsize=(10, 10), zorder=3, color='red',alpha=0.5)\n",
    "bases4 = colegios_sub.head().plot(ax=bases3, figsize=(10, 10), zorder=3, color='red',markersize=.1)\n",
    "bases5 = interseccion3[interseccion3['LocNombre']=='ENGATIVA'].sample(50, random_state=42).plot(ax=bases3, figsize=(10, 10), zorder=3, color='orange',markersize=.1)"
   ]
  },
  {
   "cell_type": "code",
   "execution_count": null,
   "metadata": {},
   "outputs": [],
   "source": [
    "cant_colegios = geopandas.sjoin(\n",
    "    left_df=casas[['id', 'geometry']], \n",
    "    right_df=colegios[['NOMBRE_ESTABLECIMIENTO_EDUCATIVO', 'geometry']], \n",
    "    how='left', \n",
    "    op='intersects').drop(columns=['index_right']).\\\n",
    "        groupby('id', as_index=False, dropna=False).\\\n",
    "        agg(**{'cantidad de colegios cerca': pd.NamedAgg('NOMBRE_ESTABLECIMIENTO_EDUCATIVO', 'count')})"
   ]
  },
  {
   "cell_type": "code",
   "execution_count": null,
   "metadata": {},
   "outputs": [],
   "source": [
    "interseccion4 = pd.merge(interseccion3, cant_colegios, how='inner', on='id')"
   ]
  },
  {
   "cell_type": "code",
   "execution_count": null,
   "metadata": {},
   "outputs": [],
   "source": [
    "sns.scatterplot(x='cantidad de colegios cerca', y='y', data=interseccion4[['y','cantidad de colegios cerca']].dropna())\n",
    "plt.show()"
   ]
  },
  {
   "cell_type": "code",
   "execution_count": null,
   "metadata": {},
   "outputs": [],
   "source": [
    "condlist = [\n",
    "    (interseccion4['cantidad de colegios cerca']==0),\n",
    "    (interseccion4['cantidad de colegios cerca']>=1) & (interseccion4['cantidad de colegios cerca']<11),\n",
    "    (interseccion4['cantidad de colegios cerca']>=11) & (interseccion4['cantidad de colegios cerca']<21),\n",
    "    (interseccion4['cantidad de colegios cerca']>=21) & (interseccion4['cantidad de colegios cerca']<31),\n",
    "    (interseccion4['cantidad de colegios cerca']>=31) & (interseccion4['cantidad de colegios cerca']<41),\n",
    "    (interseccion4['cantidad de colegios cerca']>=41)]\n",
    "choicelist = ['0', '1-10', '11-20', '21-30', '31-40', '41+']\n",
    "interseccion4['Agrupación de colegios cerca'] = np.select(condlist=condlist, choicelist=choicelist)"
   ]
  },
  {
   "cell_type": "code",
   "execution_count": null,
   "metadata": {},
   "outputs": [],
   "source": [
    "sns.boxplot(\n",
    "    x = 'cantidad de colegios cerca modificado', \n",
    "    y='y', \n",
    "    data=interseccion4[['cantidad de colegios cerca modificado', 'y']].dropna(),\n",
    "    order=choicelist)\n",
    "plt.show()"
   ]
  },
  {
   "cell_type": "code",
   "execution_count": null,
   "metadata": {},
   "outputs": [],
   "source": [
    "g = sns.PairGrid(interseccion4[['y', 'cantidad de colegios cerca', 'Agrupación de colegios cerca']].sample(5000), hue='Agrupación de colegios cerca', diag_sharey=False)\n",
    "g.map_upper(sns.scatterplot)\n",
    "g.map_lower(sns.kdeplot)\n",
    "g.map_diag(sns.kdeplot)\n",
    "plt.show()"
   ]
  },
  {
   "cell_type": "code",
   "execution_count": null,
   "metadata": {},
   "outputs": [],
   "source": [
    "caps_path = r'C:\\Users\\William\\Desktop\\el algoritmo es correcto\\Datos abiertos bogota\\CAPS'\n",
    "caps = geopandas.read_file(caps_path, crs={'init':'epsg:4686'})"
   ]
  },
  {
   "cell_type": "code",
   "execution_count": null,
   "metadata": {},
   "outputs": [],
   "source": [
    "caps = caps[['ID', 'geometry']]"
   ]
  },
  {
   "cell_type": "code",
   "execution_count": null,
   "metadata": {},
   "outputs": [],
   "source": [
    "caps['geometry'] = caps.buffer(0.01)"
   ]
  },
  {
   "cell_type": "code",
   "execution_count": null,
   "metadata": {},
   "outputs": [],
   "source": [
    "bases1 = localidades.plot(color='white', edgecolor='black', figsize=(10, 10), zorder=1)\n",
    "bases2 = caps.plot(ax=bases1, figsize=(10, 10), zorder=3, color='blue', markersize=.1)\n",
    "bases3 = caps.buffer(0.01).plot(ax=bases2, figsize=(10, 10), zorder=4, color='blue', alpha=0.5)\n",
    "bases4 = interseccion4.sample(1000, random_state=42).plot(ax=bases3, figsize=(10, 10), zorder=5, color='orange', markersize=.1)"
   ]
  },
  {
   "cell_type": "code",
   "execution_count": null,
   "metadata": {},
   "outputs": [],
   "source": [
    "cant_caps = geopandas.sjoin(\n",
    "    left_df=casas[['id', 'geometry']], \n",
    "    right_df=caps[['ID', 'geometry']], \n",
    "    how='left', \n",
    "    op='intersects').drop(columns=['index_right']).\\\n",
    "        groupby('id', as_index=False, dropna=False).\\\n",
    "        agg(**{'cantidad de caps cerca': pd.NamedAgg('ID', 'count')})"
   ]
  },
  {
   "cell_type": "code",
   "execution_count": null,
   "metadata": {},
   "outputs": [],
   "source": [
    "interseccion5 = pd.merge(interseccion4, cant_caps, how='inner', on='id')"
   ]
  },
  {
   "cell_type": "code",
   "execution_count": null,
   "metadata": {},
   "outputs": [],
   "source": [
    "sns.violinplot(x='cantidad de caps cerca', y='y', data=interseccion5[['y','cantidad de caps cerca']].dropna())"
   ]
  },
  {
   "cell_type": "code",
   "execution_count": null,
   "metadata": {},
   "outputs": [],
   "source": [
    "interseccion5.info()"
   ]
  },
  {
   "cell_type": "code",
   "execution_count": null,
   "metadata": {},
   "outputs": [],
   "source": [
    "sns.heatmap(interseccion5[['y', 'area', 'valorventa','ESTRATO', 'habitaciones', 'CP_TERR_AR', 'AVALUO_COM', 'AVALUO_CAT','LocNombre','cantidad de caps cerca', 'cantidad de colegios cerca']].dropna().corr(), cmap='Greys')\n",
    "plt.show()"
   ]
  },
  {
   "cell_type": "code",
   "execution_count": null,
   "metadata": {},
   "outputs": [],
   "source": [
    " interseccionn = interseccion5"
   ]
  },
  {
   "cell_type": "code",
   "execution_count": null,
   "metadata": {},
   "outputs": [],
   "source": [
    "interseccionn = interseccionn[interseccionn['LocNombre'].notna()]"
   ]
  },
  {
   "source": [
    "## Estrato"
   ],
   "cell_type": "markdown",
   "metadata": {}
  },
  {
   "cell_type": "code",
   "execution_count": null,
   "metadata": {},
   "outputs": [],
   "source": [
    "interseccionn['ESTRATO'] = np.where(\n",
    "    interseccionn['ESTRATO'].isna() | interseccionn['ESTRATO']==0,\n",
    "    np.NaN,\n",
    "    interseccionn['ESTRATO']\n",
    ")"
   ]
  },
  {
   "cell_type": "code",
   "execution_count": null,
   "metadata": {},
   "outputs": [],
   "source": [
    "train = interseccionn.loc[interseccionn['ESTRATO'].notna(),['ESTRATO', 'latitud', 'longitud']]\n",
    "X = train[['latitud', 'longitud']].values\n",
    "y = train[['ESTRATO']].values\n",
    "# Create training and test sets\n",
    "X_train, X_test, y_train, y_test = train_test_split(X, y, test_size = 0.3, random_state=42)\n",
    "neigh = KNeighborsClassifier(n_neighbors=3, metric = 'euclidean')\n",
    "neigh.fit(X_train, y_train.ravel())\n",
    "y_pred = neigh.predict(X_test)\n",
    "print(\"R^2: {}\".format(neigh.score(X_test, y_test)))\n",
    "rmse = np.sqrt(mean_squared_error(y_test, y_pred))\n",
    "print(\"Root Mean Squared Error: {}\".format(rmse))\n",
    "print(\"Accuracy: {}\".format(accuracy_score(y_test, y_pred)))"
   ]
  },
  {
   "cell_type": "code",
   "execution_count": null,
   "metadata": {},
   "outputs": [],
   "source": [
    "valores = interseccionn.loc[interseccionn['ESTRATO'].isnull(),['latitud', 'longitud']].values\n",
    "interseccionn.loc[interseccionn['ESTRATO'].isnull(),'ESTRATO'] = neigh.predict(valores)"
   ]
  },
  {
   "source": [
    "## AVALUO_COM"
   ],
   "cell_type": "markdown",
   "metadata": {}
  },
  {
   "cell_type": "code",
   "execution_count": null,
   "metadata": {},
   "outputs": [],
   "source": [
    "train = interseccionn.loc[interseccionn['AVALUO_COM'].notna(),['AVALUO_COM', 'latitud', 'longitud']]\n",
    "X = train[['latitud', 'longitud']].values\n",
    "y = train[['AVALUO_COM']].values\n",
    "# Create training and test sets\n",
    "X_train, X_test, y_train, y_test = train_test_split(X, y, test_size = 0.3, random_state=42)\n",
    "neigh = DecisionTreeRegressor()\n",
    "neigh.fit(X_train, y_train.ravel())\n",
    "y_pred = neigh.predict(X_test)\n",
    "print(\"R^2: {}\".format(neigh.score(X_test, y_test)))\n",
    "rmse = np.sqrt(mean_squared_error(y_test, y_pred))\n",
    "print(\"Root Mean Squared Error: {}\".format(rmse))"
   ]
  },
  {
   "cell_type": "code",
   "execution_count": null,
   "metadata": {},
   "outputs": [],
   "source": [
    "valores = interseccionn.loc[interseccionn['AVALUO_COM'].isnull(),['latitud', 'longitud']].values\n",
    "interseccionn.loc[interseccionn['AVALUO_COM'].isnull(),'AVALUO_COM'] = neigh.predict(valores)"
   ]
  },
  {
   "source": [
    "## AVALUO_CAT"
   ],
   "cell_type": "markdown",
   "metadata": {}
  },
  {
   "cell_type": "code",
   "execution_count": null,
   "metadata": {},
   "outputs": [],
   "source": [
    "train = interseccionn.loc[interseccionn['AVALUO_CAT'].notna(),['AVALUO_CAT', 'latitud', 'longitud']]\n",
    "X = train[['latitud', 'longitud']].values\n",
    "y = train[['AVALUO_CAT']].values\n",
    "# Create training and test sets\n",
    "X_train, X_test, y_train, y_test = train_test_split(X, y, test_size = 0.3, random_state=42)\n",
    "neigh = DecisionTreeRegressor()#algorithm='brute', n_neighbors=5,  leaf_size=1, p=2, weights='distance', metric='chebyshev', n_jobs=-1)\n",
    "neigh.fit(X_train, y_train.ravel())\n",
    "y_pred = neigh.predict(X_test)\n",
    "print(\"R^2: {}\".format(neigh.score(X_test, y_test)))\n",
    "rmse = np.sqrt(mean_squared_error(y_test, y_pred))\n",
    "print(\"Root Mean Squared Error: {}\".format(rmse))"
   ]
  },
  {
   "cell_type": "code",
   "execution_count": null,
   "metadata": {},
   "outputs": [],
   "source": [
    "valores = interseccionn.loc[interseccionn['AVALUO_CAT'].isnull(),['latitud', 'longitud']].values\n",
    "interseccionn.loc[interseccionn['AVALUO_CAT'].isnull(),'AVALUO_CAT'] = neigh.predict(valores)"
   ]
  },
  {
   "source": [
    "## GRUPOP_TER"
   ],
   "cell_type": "markdown",
   "metadata": {}
  },
  {
   "cell_type": "code",
   "execution_count": null,
   "metadata": {},
   "outputs": [],
   "source": [
    "interseccionn[interseccionn['GRUPOP_TER'].notna()]['GRUPOP_TER'].unique()"
   ]
  },
  {
   "cell_type": "code",
   "execution_count": null,
   "metadata": {},
   "outputs": [],
   "source": [
    "interseccionn[interseccionn['GRUPOP_TER'].notna()]['GRUPOP_TER'].unique()"
   ]
  },
  {
   "cell_type": "code",
   "execution_count": null,
   "metadata": {},
   "outputs": [],
   "source": [
    "indices = {}\n",
    "for i, grupo in enumerate(interseccionn[interseccionn['GRUPOP_TER'].notna()]['GRUPOP_TER'].unique()):\n",
    "    indices[i] = grupo\n",
    "    interseccionn.loc[interseccionn['GRUPOP_TER']==grupo, ['GRUPOP_TER']] = i"
   ]
  },
  {
   "cell_type": "code",
   "execution_count": null,
   "metadata": {},
   "outputs": [],
   "source": [
    "train = interseccionn.loc[interseccionn['GRUPOP_TER'].notna(),['GRUPOP_TER', 'latitud', 'longitud']]\n",
    "X = train[['latitud', 'longitud']].values\n",
    "y = train[['GRUPOP_TER']].astype(int).values\n",
    "# Create training and test sets\n",
    "X_train, X_test, y_train, y_test = train_test_split(X, y, test_size = 0.3, random_state=42)\n",
    "neigh = KNeighborsClassifier()#algorithm='brute', n_neighbors=5,  leaf_size=1, p=2, weights='distance', metric='chebyshev', n_jobs=-1)\n",
    "neigh.fit(X_train, y_train)\n",
    "y_pred = neigh.predict(X_test)\n",
    "print(\"R^2: {}\".format(neigh.score(X_test, y_test)))\n",
    "rmse = np.sqrt(mean_squared_error(y_test, y_pred))\n",
    "print(\"Root Mean Squared Error: {}\".format(rmse))\n",
    "print(\"Accuracy: {}\".format(accuracy_score(y_test, y_pred)))"
   ]
  },
  {
   "cell_type": "code",
   "execution_count": null,
   "metadata": {},
   "outputs": [],
   "source": [
    "valores = interseccionn.loc[interseccionn['GRUPOP_TER'].isnull(),['latitud', 'longitud']].values\n",
    "interseccionn.loc[interseccionn['GRUPOP_TER'].isnull(),'GRUPOP_TER'] = neigh.predict(valores)"
   ]
  },
  {
   "source": [
    "## CP_TERR_AR"
   ],
   "cell_type": "markdown",
   "metadata": {}
  },
  {
   "cell_type": "code",
   "execution_count": null,
   "metadata": {},
   "outputs": [],
   "source": [
    "indices2 = {}\n",
    "for i, grupo in enumerate(interseccionn[interseccionn['CP_TERR_AR'].notna()]['CP_TERR_AR'].unique()):\n",
    "    indices2[i] = grupo\n",
    "    interseccionn.loc[interseccionn['CP_TERR_AR']==grupo, ['CP_TERR_AR']] = i"
   ]
  },
  {
   "cell_type": "code",
   "execution_count": null,
   "metadata": {},
   "outputs": [],
   "source": [
    "train = interseccionn.loc[interseccionn['CP_TERR_AR'].notna(),['CP_TERR_AR', 'latitud', 'longitud']]\n",
    "X = train[['latitud', 'longitud']].values\n",
    "y = train[['CP_TERR_AR']].astype(int).values\n",
    "# Create training and test sets\n",
    "X_train, X_test, y_train, y_test = train_test_split(X, y, test_size = 0.3, random_state=42)\n",
    "neigh = KNeighborsClassifier()\n",
    "neigh.fit(X_train, y_train)\n",
    "y_pred = neigh.predict(X_test)\n",
    "print(\"R^2: {}\".format(neigh.score(X_test, y_test)))\n",
    "rmse = np.sqrt(mean_squared_error(y_test, y_pred))\n",
    "print(\"Root Mean Squared Error: {}\".format(rmse))\n",
    "print(\"Accuracy: {}\".format(accuracy_score(y_test, y_pred)))"
   ]
  },
  {
   "cell_type": "code",
   "execution_count": null,
   "metadata": {},
   "outputs": [],
   "source": [
    "valores = interseccionn.loc[interseccionn['CP_TERR_AR'].isnull(),['latitud', 'longitud']].values\n",
    "interseccionn.loc[interseccionn['CP_TERR_AR'].isnull(),'CP_TERR_AR'] = neigh.predict(valores)"
   ]
  },
  {
   "cell_type": "code",
   "execution_count": null,
   "metadata": {},
   "outputs": [],
   "source": [
    "for i, grupo in indices.items():\n",
    "    interseccionn.loc[interseccionn['GRUPOP_TER']==i, ['GRUPOP_TER']] = grupo"
   ]
  },
  {
   "cell_type": "code",
   "execution_count": null,
   "metadata": {},
   "outputs": [],
   "source": [
    "for i, grupo in indices2.items():\n",
    "    interseccionn.loc[interseccionn['CP_TERR_AR']==i, ['CP_TERR_AR']] = grupo"
   ]
  },
  {
   "cell_type": "code",
   "execution_count": null,
   "metadata": {},
   "outputs": [],
   "source": [
    "sns.boxplot(y='GRUPOP_TER', x='y', data=interseccionn[['y','GRUPOP_TER']].dropna())\n",
    "plt.show()"
   ]
  },
  {
   "cell_type": "code",
   "execution_count": null,
   "metadata": {},
   "outputs": [],
   "source": [
    "sns.boxplot(x='CP_TERR_AR', y='y', data=interseccionn[['y','CP_TERR_AR']].dropna())\n",
    "plt.show()"
   ]
  },
  {
   "cell_type": "code",
   "execution_count": null,
   "metadata": {},
   "outputs": [],
   "source": [
    "interseccionn = interseccionn.sort_values([\"ESTRATO\", \"id\"])"
   ]
  },
  {
   "cell_type": "code",
   "execution_count": null,
   "metadata": {},
   "outputs": [],
   "source": [
    "probabilities = []\n",
    "for estrato in interseccionn['ESTRATO'].sort_values().unique():\n",
    "    with localconverter(ro.default_converter + pandas2ri.converter):\n",
    "        r_from_pd_df = ro.conversion.py2rpy(interseccionn[interseccionn['ESTRATO']==estrato][[\"id\",\"y\"]])\n",
    "    model = gamlss.gamlss(formula = rpackages.reval(\"y~1\"), data=r_from_pd_df, family = \"GA\")\n",
    "    probs = gamlss_dist.pGA(\n",
    "        ro.IntVector(interseccionn[interseccionn['ESTRATO']==estrato][\"y\"]), \n",
    "        mu=base.exp(model[24]), \n",
    "        sigma=base.exp(model[41]))\n",
    "    probabilities.extend(probs)"
   ]
  },
  {
   "cell_type": "code",
   "execution_count": null,
   "metadata": {},
   "outputs": [],
   "source": [
    "probabilities = np.array(probabilities).reshape(1,-1)"
   ]
  },
  {
   "cell_type": "code",
   "execution_count": null,
   "metadata": {},
   "outputs": [],
   "source": [
    "interseccionn['y_estimado'] = (\n",
    "    interseccionn['y'].values*(100-MinMaxScaler(feature_range=(2,4)).fit(probabilities).transform(probabilities).reshape(-1))\n",
    ")/100"
   ]
  },
  {
   "cell_type": "code",
   "execution_count": null,
   "metadata": {},
   "outputs": [],
   "source": [
    "interseccionn = interseccionn.set_index('id')"
   ]
  },
  {
   "cell_type": "code",
   "execution_count": null,
   "metadata": {},
   "outputs": [],
   "source": [
    "interseccionn.info()"
   ]
  },
  {
   "cell_type": "code",
   "execution_count": null,
   "metadata": {},
   "outputs": [],
   "source": [
    "eliminar_columnas = [\n",
    "    'deposito', 'estrato', 'garajes', 'piso', 'tiempodeconstruido', 'vigilancia',\n",
    "    'vista', 'zonalavanderia'\n",
    "]\n",
    "interseccionn = interseccionn.drop(columns=eliminar_columnas)"
   ]
  },
  {
   "cell_type": "code",
   "execution_count": null,
   "metadata": {},
   "outputs": [],
   "source": [
    "interseccionn[interseccionn.columns].corr()['y_estimado']"
   ]
  },
  {
   "cell_type": "code",
   "execution_count": null,
   "metadata": {},
   "outputs": [],
   "source": [
    "columnas_dummy = [\n",
    "    'banos modificado', 'garajes modificado', 'piso modificado', 'vista modificado',\n",
    "    'vista modificado', 'vigilancia modificado', 'tiempodeconstruido modificado', \n",
    "    'CP_TERR_AR', 'LocNombre', 'cantidad de colegios cerca modificado'\n",
    "    ,'GRUPOP_TER'\n",
    "     ]\n",
    "# 'LocNombre', 'V_REF', ,\n",
    "data1 = pd.get_dummies(\n",
    "    interseccionn.drop(columns=['geometry',  'latitud', 'longitud', 'banos', 'prob', 'Agrupación de colegios cerca']),\n",
    "    drop_first=True, \n",
    "    columns=columnas_dummy)"
   ]
  },
  {
   "cell_type": "code",
   "execution_count": null,
   "metadata": {},
   "outputs": [],
   "source": [
    "data_test = data1[data1['data']=='test'].drop(columns=['data'])\n",
    "data1 = data1[data1['data']=='train'].drop(columns=['data'])"
   ]
  },
  {
   "cell_type": "code",
   "execution_count": null,
   "metadata": {},
   "outputs": [],
   "source": [
    "X = data1.drop(columns=['y_estimado']).values\n",
    "y = data1[['y_estimado']].values\n",
    "\n",
    "# Create training and test sets\n",
    "X_train, X_test, y_train, y_test = train_test_split(X, y, test_size = 0.3, random_state=42)"
   ]
  },
  {
   "cell_type": "code",
   "execution_count": null,
   "metadata": {},
   "outputs": [],
   "source": [
    "print(X_train.shape)\n",
    "print(X_test.shape)\n",
    "print(y_train.shape)\n",
    "print(y_test.shape)\n",
    "print(data_test.shape)"
   ]
  },
  {
   "source": [
    "## Modelo RandomForest"
   ],
   "cell_type": "markdown",
   "metadata": {}
  },
  {
   "cell_type": "code",
   "execution_count": null,
   "metadata": {},
   "outputs": [],
   "source": [
    "mod2 = RandomForestRegressor(random_state=0, n_jobs=-1).fit(X_train, y_train.ravel())"
   ]
  },
  {
   "cell_type": "code",
   "execution_count": null,
   "metadata": {},
   "outputs": [],
   "source": [
    "print(mean_absolute_percentage_error(y_train, mod2.predict(X_train)))\n",
    "print(mean_absolute_percentage_error(y_test, mod2.predict(X_test)))\n",
    "print(mean_absolute_percentage_error(\n",
    "    data_test[['y_estimado']].values,\n",
    "    mod2.predict(data_test.drop(columns=['y_estimado']).values)))"
   ]
  },
  {
   "cell_type": "code",
   "execution_count": null,
   "metadata": {},
   "outputs": [],
   "source": [
    "print(mean_absolute_error(\n",
    "    data_test[['y_estimado']].values,\n",
    "    mod2.predict(data_test.drop(columns=['y_estimado']).values)))"
   ]
  },
  {
   "cell_type": "code",
   "execution_count": null,
   "metadata": {},
   "outputs": [],
   "source": [
    "# resultados = mod2.predict(data_test.drop(columns=['y']).values)\n",
    "# resultados_df = pd.DataFrame(resultados, index=data_test.index, columns=['valormt2_predicted'])\\\n",
    "#     .reset_index(drop=False).rename(columns={'index':'id'})\n",
    "# resultados_df.to_csv(r'C:\\Users\\William\\Desktop\\el algoritmo es correcto\\resultado5.csv', index=False)"
   ]
  },
  {
   "source": [
    "## Modelo XGBOOST"
   ],
   "cell_type": "markdown",
   "metadata": {}
  },
  {
   "cell_type": "code",
   "execution_count": null,
   "metadata": {},
   "outputs": [],
   "source": [
    "data = data1.drop(columns=['y_estimado']).values\n",
    "label = data1['y_estimado'].values\n",
    "dtrain = xgb.DMatrix(data, label=label)"
   ]
  },
  {
   "cell_type": "code",
   "execution_count": null,
   "metadata": {},
   "outputs": [],
   "source": [
    "data = data_test.drop(columns=['y_estimado']).values\n",
    "label = data_test['y_estimado'].values\n",
    "dtest2 = xgb.DMatrix(data, label=label)"
   ]
  },
  {
   "cell_type": "code",
   "execution_count": null,
   "metadata": {},
   "outputs": [],
   "source": [
    "squared_error = {\n",
    "    # 'booster': 'dart',\n",
    "    'lambda': 1,#\n",
    "    'alpha': 1,#\n",
    "    # 'updater': 'shotgun',#\n",
    "    'feature_selector': 'greedy', # Variaciones\n",
    "    # 'top_k': 0, #\n",
    "    'objective': 'reg:squarederror', #\n",
    "    'base_score': 1,\n",
    "    'eval_metric': 'mape',\n",
    "    'tree_method': 'exact',\n",
    "    'seed': np.random.seed(1994)\n",
    "    }"
   ]
  },
  {
   "cell_type": "code",
   "execution_count": null,
   "metadata": {},
   "outputs": [],
   "source": [
    "results: Dict[str, Dict[str, List[float]]] = {}"
   ]
  },
  {
   "cell_type": "code",
   "execution_count": null,
   "metadata": {
    "tags": [
     "outputPrepend"
    ]
   },
   "outputs": [],
   "source": [
    "kBoostRound = 500\n",
    "bst = xgb.train(\n",
    "    squared_error,\n",
    "    dtrain=dtrain,\n",
    "    num_boost_round=kBoostRound,\n",
    "    evals=[(dtrain, 'dtrain'), (dtest2, 'dtest')],\n",
    "    evals_result=results)"
   ]
  },
  {
   "cell_type": "code",
   "execution_count": null,
   "metadata": {},
   "outputs": [],
   "source": [
    "print(mean_absolute_percentage_error(\n",
    "    data_test['y_estimado'].values,\n",
    "    bst.predict(dtest2, ntree_limit=bst.best_ntree_limit)))"
   ]
  },
  {
   "cell_type": "code",
   "execution_count": null,
   "metadata": {},
   "outputs": [],
   "source": [
    "mean_absolute_error(\n",
    "    data_test['y_estimado'].values,\n",
    "    bst.predict(dtest2, ntree_limit=bst.best_ntree_limit)\n",
    ")"
   ]
  },
  {
   "cell_type": "code",
   "execution_count": null,
   "metadata": {},
   "outputs": [],
   "source": [
    "bst.predict(dtest2, ntree_limit=bst.best_ntree_limit)"
   ]
  },
  {
   "cell_type": "code",
   "execution_count": null,
   "metadata": {},
   "outputs": [],
   "source": [
    "# resultados = bst.predict(dtest2, ntree_limit=bst.best_ntree_limit)\n",
    "# resultados_df = pd.DataFrame(resultados, index=data_test.index, columns=['valormt2_predicted'])\\\n",
    "#     .reset_index(drop=False).rename(columns={'index':'id'})\n",
    "# resultados_df.to_csv(r'C:\\Users\\William\\Desktop\\el algoritmo es correcto\\resultado11.csv', index=False)"
   ]
  }
 ]
}